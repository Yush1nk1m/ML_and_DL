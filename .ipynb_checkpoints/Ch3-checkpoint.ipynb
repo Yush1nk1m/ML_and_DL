{
 "cells": [
  {
   "cell_type": "markdown",
   "id": "791ae2f4",
   "metadata": {},
   "source": [
    "# 텐서플로 이해하기"
   ]
  },
  {
   "cell_type": "markdown",
   "id": "edb891af",
   "metadata": {},
   "source": [
    "### 코드 3-1. 모두 1 또는 0인 텐서"
   ]
  },
  {
   "cell_type": "code",
   "execution_count": 1,
   "id": "ab2bcc21",
   "metadata": {
    "vscode": {
     "languageId": "plaintext"
    }
   },
   "outputs": [],
   "source": [
    "import tensorflow as tf"
   ]
  },
  {
   "cell_type": "code",
   "execution_count": 2,
   "id": "201ef5d5",
   "metadata": {},
   "outputs": [],
   "source": [
    "x = tf.ones(shape = (2, 1)) # indentical with np.ones(shape = (2, 1))"
   ]
  },
  {
   "cell_type": "code",
   "execution_count": 3,
   "id": "15038e45",
   "metadata": {},
   "outputs": [
    {
     "name": "stdout",
     "output_type": "stream",
     "text": [
      "tf.Tensor(\n",
      "[[1.]\n",
      " [1.]], shape=(2, 1), dtype=float32)\n"
     ]
    }
   ],
   "source": [
    "print(x)"
   ]
  },
  {
   "cell_type": "code",
   "execution_count": 4,
   "id": "0a8e83dd",
   "metadata": {},
   "outputs": [],
   "source": [
    "x = tf.ones(shape = (1, 2))"
   ]
  },
  {
   "cell_type": "code",
   "execution_count": 5,
   "id": "be936dc7",
   "metadata": {},
   "outputs": [
    {
     "name": "stdout",
     "output_type": "stream",
     "text": [
      "tf.Tensor([[1. 1.]], shape=(1, 2), dtype=float32)\n"
     ]
    }
   ],
   "source": [
    "print(x)"
   ]
  },
  {
   "cell_type": "code",
   "execution_count": 6,
   "id": "d2055db4",
   "metadata": {},
   "outputs": [],
   "source": [
    "x = tf.zeros(shape = (2, 2))"
   ]
  },
  {
   "cell_type": "code",
   "execution_count": 7,
   "id": "9d57c4d7",
   "metadata": {},
   "outputs": [
    {
     "name": "stdout",
     "output_type": "stream",
     "text": [
      "tf.Tensor(\n",
      "[[0. 0.]\n",
      " [0. 0.]], shape=(2, 2), dtype=float32)\n"
     ]
    }
   ],
   "source": [
    "print(x)"
   ]
  },
  {
   "cell_type": "markdown",
   "id": "b8479172",
   "metadata": {},
   "source": [
    "### 코드 3-2. 랜덤 텐서"
   ]
  },
  {
   "cell_type": "code",
   "execution_count": 8,
   "id": "2994c3f8",
   "metadata": {},
   "outputs": [],
   "source": [
    "x = tf.random.normal(shape = (10, 10), mean = 0., stddev = 1.)"
   ]
  },
  {
   "cell_type": "code",
   "execution_count": 9,
   "id": "6de512b3",
   "metadata": {},
   "outputs": [
    {
     "name": "stdout",
     "output_type": "stream",
     "text": [
      "tf.Tensor(\n",
      "[[ 3.2321361e-01 -2.6439190e-01  7.2453934e-01  2.1606925e+00\n",
      "  -4.0108714e-01 -7.3988402e-01  2.1927984e+00  8.3581984e-01\n",
      "  -2.5279447e-01 -2.5271726e-01]\n",
      " [ 6.6345203e-01 -8.3004765e-02  1.1253515e+00 -1.4191673e+00\n",
      "   1.0890816e+00  1.1636378e+00  3.2863754e-01 -1.8408090e+00\n",
      "  -5.3002661e-01 -1.2454805e+00]\n",
      " [-9.1775835e-02 -1.2674136e+00 -3.8537100e-01  1.7150602e+00\n",
      "   1.1302190e+00 -1.8032062e+00 -8.0905163e-01  2.1142401e-01\n",
      "   1.1689203e+00 -4.2165792e-01]\n",
      " [-2.4062493e-01  7.4399906e-01 -3.2288831e-01  1.6097864e+00\n",
      "   2.1928439e+00  1.1752541e+00  1.4595151e+00 -9.7235429e-01\n",
      "   6.3958156e-01 -2.6604542e-01]\n",
      " [ 1.1970991e+00 -1.1409644e+00  6.1715913e-01  7.7994174e-01\n",
      "  -7.1745914e-01 -3.7597772e-01 -1.2209836e+00 -7.5426859e-01\n",
      "   4.5936084e-01  1.6799800e+00]\n",
      " [-4.3689325e-01  4.2049602e-01  1.3403345e+00  3.6870471e-01\n",
      "   3.7714592e-01 -6.4103568e-01 -1.4588684e+00 -1.4270382e-01\n",
      "   3.4382251e-01 -1.0020018e+00]\n",
      " [ 1.3205013e+00 -1.2855316e+00  2.3174765e+00 -1.0179160e+00\n",
      "  -3.1242374e-01 -2.5622346e+00  1.5040646e+00 -2.0152063e+00\n",
      "  -3.1000561e-01 -2.4226080e-01]\n",
      " [-2.3396133e-01  3.1860849e-01  1.4236473e+00  3.5559332e-01\n",
      "  -3.7094486e+00  8.7108366e-02 -1.7911161e+00  1.3607348e+00\n",
      "  -2.3965485e-01 -5.4234588e-01]\n",
      " [ 1.4799335e+00 -1.5539913e-01  7.5188345e-01 -1.6036779e+00\n",
      "   6.3786817e-01 -1.4098459e+00 -7.3341352e-01  2.1853893e-01\n",
      "   1.0369552e+00 -1.7734965e+00]\n",
      " [ 3.3493590e-01 -3.3758371e-03  6.4846945e-01  8.6110599e-02\n",
      "   2.1446382e-01 -5.7500410e-01  2.5110099e-01  5.5029416e-01\n",
      "  -5.3249121e-01 -8.8289487e-01]], shape=(10, 10), dtype=float32)\n"
     ]
    }
   ],
   "source": [
    "print(x)"
   ]
  },
  {
   "cell_type": "code",
   "execution_count": 10,
   "id": "c5e8b466",
   "metadata": {},
   "outputs": [],
   "source": [
    "x = tf.random.uniform(shape = (5, 5), minval = 0., maxval = 1.)"
   ]
  },
  {
   "cell_type": "code",
   "execution_count": 11,
   "id": "79f5dc7c",
   "metadata": {},
   "outputs": [
    {
     "name": "stdout",
     "output_type": "stream",
     "text": [
      "tf.Tensor(\n",
      "[[0.6028812  0.6543299  0.9725257  0.19729638 0.60452867]\n",
      " [0.16638744 0.62557673 0.68723166 0.9210694  0.5762979 ]\n",
      " [0.20540404 0.9169353  0.5903331  0.3785733  0.779209  ]\n",
      " [0.6330856  0.6734283  0.7643882  0.6217102  0.7727021 ]\n",
      " [0.66109455 0.01240957 0.10044944 0.6858312  0.01737905]], shape=(5, 5), dtype=float32)\n"
     ]
    }
   ],
   "source": [
    "print(x)"
   ]
  },
  {
   "cell_type": "markdown",
   "id": "be5d0617",
   "metadata": {},
   "source": [
    "### 코드 3-3. 넘파이 배열에 값 할당하기"
   ]
  },
  {
   "cell_type": "code",
   "execution_count": 12,
   "id": "9bba829b",
   "metadata": {},
   "outputs": [],
   "source": [
    "import numpy as np\n",
    "\n",
    "x = np.ones(shape = (2, 2))\n",
    "x[0, 0] = 0"
   ]
  },
  {
   "cell_type": "markdown",
   "id": "41d6dc76",
   "metadata": {},
   "source": [
    "### 코드 3-4. 텐서플로 텐서에는 값을 할당하지 못함"
   ]
  },
  {
   "cell_type": "code",
   "execution_count": 13,
   "id": "1908a033",
   "metadata": {},
   "outputs": [
    {
     "ename": "TypeError",
     "evalue": "'tensorflow.python.framework.ops.EagerTensor' object does not support item assignment",
     "output_type": "error",
     "traceback": [
      "\u001b[1;31m-------------------------------------------------------------\u001b[0m",
      "\u001b[1;31mTypeError\u001b[0m                   Traceback (most recent call last)",
      "\u001b[1;32m~\\AppData\\Local\\Temp\\ipykernel_8732\\2591768225.py\u001b[0m in \u001b[0;36m<module>\u001b[1;34m\u001b[0m\n\u001b[0;32m      1\u001b[0m \u001b[0mx\u001b[0m \u001b[1;33m=\u001b[0m \u001b[0mtf\u001b[0m\u001b[1;33m.\u001b[0m\u001b[0mones\u001b[0m\u001b[1;33m(\u001b[0m\u001b[0mshape\u001b[0m \u001b[1;33m=\u001b[0m \u001b[1;33m(\u001b[0m\u001b[1;36m2\u001b[0m\u001b[1;33m,\u001b[0m \u001b[1;36m2\u001b[0m\u001b[1;33m)\u001b[0m\u001b[1;33m)\u001b[0m\u001b[1;33m\u001b[0m\u001b[1;33m\u001b[0m\u001b[0m\n\u001b[1;32m----> 2\u001b[1;33m \u001b[0mx\u001b[0m\u001b[1;33m[\u001b[0m\u001b[1;36m0\u001b[0m\u001b[1;33m,\u001b[0m \u001b[1;36m0\u001b[0m\u001b[1;33m]\u001b[0m \u001b[1;33m=\u001b[0m \u001b[1;36m0\u001b[0m\u001b[1;33m\u001b[0m\u001b[1;33m\u001b[0m\u001b[0m\n\u001b[0m",
      "\u001b[1;31mTypeError\u001b[0m: 'tensorflow.python.framework.ops.EagerTensor' object does not support item assignment"
     ]
    }
   ],
   "source": [
    "x = tf.ones(shape = (2, 2))\n",
    "x[0, 0] = 0"
   ]
  },
  {
   "cell_type": "markdown",
   "id": "13995e47",
   "metadata": {},
   "source": [
    "### 코드 3-5. 텐서플로 변수 만들기"
   ]
  },
  {
   "cell_type": "code",
   "execution_count": 14,
   "id": "8c3e92f8",
   "metadata": {},
   "outputs": [],
   "source": [
    "v = tf.Variable(initial_value = tf.random.normal(shape = (3, 3)))"
   ]
  },
  {
   "cell_type": "code",
   "execution_count": 15,
   "id": "d4463975",
   "metadata": {},
   "outputs": [
    {
     "name": "stdout",
     "output_type": "stream",
     "text": [
      "<tf.Variable 'Variable:0' shape=(3, 3) dtype=float32, numpy=\n",
      "array([[-0.736887  , -0.15115952,  0.84338814],\n",
      "       [-1.9045397 , -0.18006137, -0.6133523 ],\n",
      "       [-0.02888691,  0.21035482, -0.9304535 ]], dtype=float32)>\n"
     ]
    }
   ],
   "source": [
    "print(v)"
   ]
  },
  {
   "cell_type": "markdown",
   "id": "6a2007e8",
   "metadata": {},
   "source": [
    "### 코드 3-6. 텐서플로 변수에 값 할당하기"
   ]
  },
  {
   "cell_type": "code",
   "execution_count": 17,
   "id": "83b4b4b2",
   "metadata": {},
   "outputs": [
    {
     "data": {
      "text/plain": [
       "<tf.Variable 'UnreadVariable' shape=(3, 3) dtype=float32, numpy=\n",
       "array([[1., 1., 1.],\n",
       "       [1., 1., 1.],\n",
       "       [1., 1., 1.]], dtype=float32)>"
      ]
     },
     "execution_count": 17,
     "metadata": {},
     "output_type": "execute_result"
    }
   ],
   "source": [
    "v.assign(tf.ones((3, 3)))"
   ]
  },
  {
   "cell_type": "markdown",
   "id": "46b6182c",
   "metadata": {},
   "source": [
    "### 코드 3-7. 변수 일부에 값 할당하기"
   ]
  },
  {
   "cell_type": "code",
   "execution_count": 18,
   "id": "2c697f47",
   "metadata": {},
   "outputs": [
    {
     "data": {
      "text/plain": [
       "<tf.Variable 'UnreadVariable' shape=(3, 3) dtype=float32, numpy=\n",
       "array([[3., 1., 1.],\n",
       "       [1., 1., 1.],\n",
       "       [1., 1., 1.]], dtype=float32)>"
      ]
     },
     "execution_count": 18,
     "metadata": {},
     "output_type": "execute_result"
    }
   ],
   "source": [
    "v[0, 0].assign(3.)"
   ]
  },
  {
   "cell_type": "markdown",
   "id": "71ba68a1",
   "metadata": {},
   "source": [
    "### 코드 3-8. assign_add() 사용하기"
   ]
  },
  {
   "cell_type": "code",
   "execution_count": 20,
   "id": "0d74df73",
   "metadata": {},
   "outputs": [
    {
     "data": {
      "text/plain": [
       "<tf.Variable 'UnreadVariable' shape=(3, 3) dtype=float32, numpy=\n",
       "array([[4., 2., 2.],\n",
       "       [2., 2., 2.],\n",
       "       [2., 2., 2.]], dtype=float32)>"
      ]
     },
     "execution_count": 20,
     "metadata": {},
     "output_type": "execute_result"
    }
   ],
   "source": [
    "v.assign_add(tf.ones(shape = (3, 3)))"
   ]
  },
  {
   "cell_type": "code",
   "execution_count": 21,
   "id": "ac3cff85",
   "metadata": {},
   "outputs": [
    {
     "data": {
      "text/plain": [
       "<tf.Variable 'UnreadVariable' shape=(3, 3) dtype=float32, numpy=\n",
       "array([[3., 1., 1.],\n",
       "       [1., 1., 1.],\n",
       "       [1., 1., 1.]], dtype=float32)>"
      ]
     },
     "execution_count": 21,
     "metadata": {},
     "output_type": "execute_result"
    }
   ],
   "source": [
    "v.assign_sub(tf.ones(shape = (3, 3)))"
   ]
  },
  {
   "cell_type": "markdown",
   "id": "426bb387",
   "metadata": {},
   "source": [
    "### 코드 3-9. 기본적인 수학 연산"
   ]
  },
  {
   "cell_type": "code",
   "execution_count": 22,
   "id": "7c406c6d",
   "metadata": {},
   "outputs": [],
   "source": [
    "a = tf.ones((2, 2))\n",
    "b = tf.square(a)\n",
    "c = tf.sqrt(a)\n",
    "d = b + c\n",
    "e = tf.matmul(a, b)\n",
    "e *= d"
   ]
  },
  {
   "cell_type": "code",
   "execution_count": 23,
   "id": "6ae5f808",
   "metadata": {},
   "outputs": [
    {
     "name": "stdout",
     "output_type": "stream",
     "text": [
      "tf.Tensor(\n",
      "[[1. 1.]\n",
      " [1. 1.]], shape=(2, 2), dtype=float32)\n",
      "tf.Tensor(\n",
      "[[1. 1.]\n",
      " [1. 1.]], shape=(2, 2), dtype=float32)\n",
      "tf.Tensor(\n",
      "[[1. 1.]\n",
      " [1. 1.]], shape=(2, 2), dtype=float32)\n",
      "tf.Tensor(\n",
      "[[2. 2.]\n",
      " [2. 2.]], shape=(2, 2), dtype=float32)\n",
      "tf.Tensor(\n",
      "[[4. 4.]\n",
      " [4. 4.]], shape=(2, 2), dtype=float32)\n"
     ]
    }
   ],
   "source": [
    "print(a)\n",
    "print(b)\n",
    "print(c)\n",
    "print(d)\n",
    "print(e)"
   ]
  },
  {
   "cell_type": "markdown",
   "id": "2665c3b7",
   "metadata": {},
   "source": [
    "### 코드 3-10. GradientTape 사용하기"
   ]
  },
  {
   "cell_type": "code",
   "execution_count": 24,
   "id": "aa896c7a",
   "metadata": {},
   "outputs": [],
   "source": [
    "input_var = tf.Variable(initial_value = 3.)"
   ]
  },
  {
   "cell_type": "code",
   "execution_count": 25,
   "id": "cff36bfa",
   "metadata": {},
   "outputs": [
    {
     "name": "stdout",
     "output_type": "stream",
     "text": [
      "<tf.Variable 'Variable:0' shape=() dtype=float32, numpy=3.0>\n"
     ]
    }
   ],
   "source": [
    "print(input_var)"
   ]
  },
  {
   "cell_type": "code",
   "execution_count": 26,
   "id": "e8795a64",
   "metadata": {},
   "outputs": [],
   "source": [
    "with tf.GradientTape() as tape:\n",
    "    result = tf.square(input_var)"
   ]
  },
  {
   "cell_type": "code",
   "execution_count": 27,
   "id": "668072ec",
   "metadata": {},
   "outputs": [],
   "source": [
    "gradient = tape.gradient(result, input_var)"
   ]
  },
  {
   "cell_type": "code",
   "execution_count": 28,
   "id": "0ae0613b",
   "metadata": {},
   "outputs": [
    {
     "name": "stdout",
     "output_type": "stream",
     "text": [
      "tf.Tensor(6.0, shape=(), dtype=float32)\n"
     ]
    }
   ],
   "source": [
    "print(gradient)"
   ]
  },
  {
   "cell_type": "markdown",
   "id": "95c4906b",
   "metadata": {},
   "source": [
    "### 코드 3-11. 상수 텐서 입력과 함께 GradientTape 사용하기"
   ]
  },
  {
   "cell_type": "code",
   "execution_count": 29,
   "id": "b994a7ed",
   "metadata": {},
   "outputs": [],
   "source": [
    "input_const = tf.constant(3.)"
   ]
  },
  {
   "cell_type": "code",
   "execution_count": 30,
   "id": "925fe58e",
   "metadata": {},
   "outputs": [],
   "source": [
    "with tf.GradientTape() as tape:\n",
    "    tape.watch(input_const)\n",
    "    result = tf.square(input_const)"
   ]
  },
  {
   "cell_type": "code",
   "execution_count": 31,
   "id": "2e53b8d5",
   "metadata": {},
   "outputs": [],
   "source": [
    "gradient = tape.gradient(result, input_const)"
   ]
  },
  {
   "cell_type": "code",
   "execution_count": 32,
   "id": "c83e7df2",
   "metadata": {},
   "outputs": [
    {
     "name": "stdout",
     "output_type": "stream",
     "text": [
      "tf.Tensor(6.0, shape=(), dtype=float32)\n"
     ]
    }
   ],
   "source": [
    "print(gradient)"
   ]
  },
  {
   "cell_type": "markdown",
   "id": "0961fe4f",
   "metadata": {},
   "source": [
    "### 코드 3-12. 그레이디언트 테이프를 중첩하여 이계도 그레이디언트 계산하기"
   ]
  },
  {
   "cell_type": "code",
   "execution_count": 37,
   "id": "ca33d69c",
   "metadata": {},
   "outputs": [],
   "source": [
    "time = tf.Variable(2.)"
   ]
  },
  {
   "cell_type": "code",
   "execution_count": 38,
   "id": "51e37f23",
   "metadata": {},
   "outputs": [],
   "source": [
    "with tf.GradientTape() as outer_tape:\n",
    "    with tf.GradientTape() as inner_tape:\n",
    "        position = 4.9 * time ** 2\n",
    "    speed = inner_tape.gradient(position, time)\n",
    "acceleration = outer_tape.gradient(speed, time)"
   ]
  },
  {
   "cell_type": "code",
   "execution_count": 39,
   "id": "94495d12",
   "metadata": {},
   "outputs": [
    {
     "name": "stdout",
     "output_type": "stream",
     "text": [
      "tf.Tensor(19.6, shape=(), dtype=float32)\n"
     ]
    }
   ],
   "source": [
    "print(speed)"
   ]
  },
  {
   "cell_type": "code",
   "execution_count": 40,
   "id": "8454be0f",
   "metadata": {},
   "outputs": [
    {
     "name": "stdout",
     "output_type": "stream",
     "text": [
      "tf.Tensor(9.8, shape=(), dtype=float32)\n"
     ]
    }
   ],
   "source": [
    "print(acceleration)"
   ]
  },
  {
   "cell_type": "markdown",
   "id": "7a5b8f49",
   "metadata": {},
   "source": [
    "### 코드 3-13. 2D 평면에 두 클래스의 랜덤한 포인트 생성하기"
   ]
  },
  {
   "cell_type": "code",
   "execution_count": 41,
   "id": "e08ec699",
   "metadata": {},
   "outputs": [],
   "source": [
    "num_samples_per_class = 1000\n",
    "negative_samples = np.random.multivariate_normal(\n",
    "    mean = [0, 3],\n",
    "    cov =[[1, 0.5], [0.5, 1]],\n",
    "    size = num_samples_per_class)\n",
    "positive_samples = np.random.multivariate_normal(\n",
    "    mean = [3, 0],\n",
    "    cov = [[1, 0.5], [0.5, 1]],\n",
    "    size = num_samples_per_class)"
   ]
  },
  {
   "cell_type": "markdown",
   "id": "3fc614a1",
   "metadata": {},
   "source": [
    "### 코드 3-14. 두 클래스를 (2000, 2) 크기의 한 배열로 쌓기"
   ]
  },
  {
   "cell_type": "code",
   "execution_count": 42,
   "id": "0640ebfd",
   "metadata": {},
   "outputs": [],
   "source": [
    "inputs = np.vstack((negative_samples, positive_samples)).astype(np.float32)"
   ]
  },
  {
   "cell_type": "markdown",
   "id": "062dec58",
   "metadata": {},
   "source": [
    "### 코드 3-15. 0과 1로 구성된 타깃 생성하기"
   ]
  },
  {
   "cell_type": "code",
   "execution_count": 43,
   "id": "5c6174ae",
   "metadata": {},
   "outputs": [],
   "source": [
    "targets = np.vstack((np.zeros((num_samples_per_class, 1), dtype = \"float32\"),\n",
    "                     np.ones((num_samples_per_class, 1), dtype = \"float32\")))"
   ]
  },
  {
   "cell_type": "markdown",
   "id": "39ec0d51",
   "metadata": {},
   "source": [
    "### 코드 3-16. 두 클래스의 포인트를 그래프로 그리기"
   ]
  },
  {
   "cell_type": "code",
   "execution_count": 46,
   "id": "e69427ba",
   "metadata": {},
   "outputs": [
    {
     "data": {
      "image/png": "[encoded data removed]",
      "text/plain": [
       "<Figure size 640x480 with 1 Axes>"
      ]
     },
     "metadata": {},
     "output_type": "display_data"
    }
   ],
   "source": [
    "import matplotlib.pyplot as plt\n",
    "\n",
    "plt.scatter(inputs[:, 0], inputs[:, 1], c = targets[:, 0])\n",
    "plt.show()"
   ]
  },
  {
   "cell_type": "markdown",
   "id": "34656f54",
   "metadata": {},
   "source": [
    "### 코드 3-17. 선형 분류기의 변수 만들기"
   ]
  },
  {
   "cell_type": "code",
   "execution_count": 47,
   "id": "8edd7204",
   "metadata": {},
   "outputs": [],
   "source": [
    "input_dim = 2 # 입력은 2D 포인트\n",
    "output_dim = 1 # 출력은 1D 클래스\n",
    "W = tf.Variable(initial_value = tf.random.uniform(shape = (input_dim, output_dim)))\n",
    "b = tf.Variable(initial_value = tf.zeros(shape = (output_dim, )))"
   ]
  },
  {
   "cell_type": "markdown",
   "id": "c700a051",
   "metadata": {},
   "source": [
    "### 코드 3-18. 정방향 패스 함수"
   ]
  },
  {
   "cell_type": "code",
   "execution_count": 48,
   "id": "5b84c2c5",
   "metadata": {},
   "outputs": [],
   "source": [
    "def model(inputs):\n",
    "    return tf.matmul(inputs, W) + b # prediction = W . input + b"
   ]
  },
  {
   "cell_type": "markdown",
   "id": "3393a81a",
   "metadata": {},
   "source": [
    "### 코드 3-19. 평균 제곱 오차 손실 함수"
   ]
  },
  {
   "cell_type": "code",
   "execution_count": 49,
   "id": "8c0991cf",
   "metadata": {},
   "outputs": [],
   "source": [
    "def square_loss(targets, predictions):\n",
    "    per_sample_losses = tf.square(targets - predictions) # 각각의 샘플들의 손실 값들을 모두 담고 있음\n",
    "    return tf.reduce_mean(per_sample_losses) # 모든 손실 값을 평균냄"
   ]
  },
  {
   "cell_type": "markdown",
   "id": "8025a7e4",
   "metadata": {},
   "source": [
    "### 코드 3-20. 훈련 스텝 함수"
   ]
  },
  {
   "cell_type": "code",
   "execution_count": 50,
   "id": "694c6aac",
   "metadata": {},
   "outputs": [],
   "source": [
    "learning_rate = 0.1\n",
    "\n",
    "def training_step(inputs, targets):\n",
    "    # 정방향 패스\n",
    "    with tf.GradientTape() as tape:\n",
    "        predictions = model(inputs)\n",
    "        loss = square_loss(targets, predictions)\n",
    "        \n",
    "    grad_loss_wrt_W, grad_loss_wrt_b = tape.gradient(loss, [W, b]) # 가중치에 대한 손실의 그레이디언트 계산\n",
    "    \n",
    "    # 가중치 업데이트\n",
    "    W.assign_sub(grad_loss_wrt_W * learning_rate)\n",
    "    b.assign_sub(grad_loss_wrt_b * learning_rate)\n",
    "    return loss"
   ]
  },
  {
   "cell_type": "markdown",
   "id": "cbfe93fd",
   "metadata": {},
   "source": [
    "### 코드 3-21. 배치 훈련 루프"
   ]
  },
  {
   "cell_type": "code",
   "execution_count": 51,
   "id": "1e1ab6f2",
   "metadata": {},
   "outputs": [
    {
     "name": "stdout",
     "output_type": "stream",
     "text": [
      "0th step's loss: 2.9175\n",
      "1th step's loss: 0.3787\n",
      "2th step's loss: 0.1548\n",
      "3th step's loss: 0.1216\n",
      "4th step's loss: 0.1106\n",
      "5th step's loss: 0.1028\n",
      "6th step's loss: 0.0960\n",
      "7th step's loss: 0.0898\n",
      "8th step's loss: 0.0841\n",
      "9th step's loss: 0.0789\n",
      "10th step's loss: 0.0742\n",
      "11th step's loss: 0.0698\n",
      "12th step's loss: 0.0659\n",
      "13th step's loss: 0.0623\n",
      "14th step's loss: 0.0590\n",
      "15th step's loss: 0.0560\n",
      "16th step's loss: 0.0533\n",
      "17th step's loss: 0.0507\n",
      "18th step's loss: 0.0485\n",
      "19th step's loss: 0.0464\n",
      "20th step's loss: 0.0445\n",
      "21th step's loss: 0.0427\n",
      "22th step's loss: 0.0411\n",
      "23th step's loss: 0.0397\n",
      "24th step's loss: 0.0384\n",
      "25th step's loss: 0.0371\n",
      "26th step's loss: 0.0360\n",
      "27th step's loss: 0.0350\n",
      "28th step's loss: 0.0341\n",
      "29th step's loss: 0.0333\n",
      "30th step's loss: 0.0325\n",
      "31th step's loss: 0.0318\n",
      "32th step's loss: 0.0312\n",
      "33th step's loss: 0.0306\n",
      "34th step's loss: 0.0300\n",
      "35th step's loss: 0.0296\n",
      "36th step's loss: 0.0291\n",
      "37th step's loss: 0.0287\n",
      "38th step's loss: 0.0283\n",
      "39th step's loss: 0.0280\n"
     ]
    }
   ],
   "source": [
    "for step in range(40):\n",
    "    loss = training_step(inputs, targets)\n",
    "    print(f\"{step}th step's loss: {loss:.4f}\")"
   ]
  },
  {
   "cell_type": "code",
   "execution_count": 255,
   "id": "d188d8f8",
   "metadata": {},
   "outputs": [
    {
     "name": "stdout",
     "output_type": "stream",
     "text": [
      "loss of training: 0.0244\n"
     ]
    }
   ],
   "source": [
    "loss = training_step(inputs, targets)\n",
    "print(f\"loss of training: {loss:.4f}\")"
   ]
  },
  {
   "cell_type": "code",
   "execution_count": 257,
   "id": "f5cab5be",
   "metadata": {},
   "outputs": [
    {
     "data": {
      "image/png": "[encoded data removed]",
      "text/plain": [
       "<Figure size 640x480 with 1 Axes>"
      ]
     },
     "metadata": {},
     "output_type": "display_data"
    }
   ],
   "source": [
    "predictions = model(inputs)\n",
    "\n",
    "x = np.linspace(-1, 4, 100)\n",
    "y = - W[0] / W[1] * x + (0.5 - b) / W[1]\n",
    "plt.plot(x, y, \"-r\")\n",
    "plt.scatter(inputs[:, 0], inputs[:, 1], c = predictions[:, 0] > 0.5)\n",
    "plt.show()"
   ]
  },
  {
   "cell_type": "markdown",
   "id": "d203ace1",
   "metadata": {},
   "source": [
    "# Keras API 이해하기"
   ]
  },
  {
   "cell_type": "markdown",
   "id": "403a609a",
   "metadata": {},
   "source": [
    "### 코드 3-22. Layer의 서브클래스(subclass)로 구현한 Dense 층"
   ]
  },
  {
   "cell_type": "code",
   "execution_count": 258,
   "id": "71dd7894",
   "metadata": {},
   "outputs": [],
   "source": [
    "from tensorflow import keras\n",
    "\n",
    "class SimpleDense(keras.layers.Layer):\n",
    "    \n",
    "    def __init__(self, units, activation = None):\n",
    "        super().__init__()\n",
    "        self.units = units\n",
    "        self.activation = activation\n",
    "        \n",
    "    def build(self, input_shape): # build() 메소드에서 가중치를 생성\n",
    "        input_dim = input_shape[-1]\n",
    "        self.W = self.add_weight(shape = (input_dim, self.units), initializer = \"random_normal\") # add_weight()는 가중치를 간단히 생성할 수 있는 메소드\n",
    "        self.b = self.add_weight(shape = (self.units, ), initializer = \"zeros\")\n",
    "        \n",
    "    def call(self, inputs): # call() 메소드에서 정방향 패스 계산을 정의\n",
    "        y = tf.matmul(inputs, self.W) + self.b\n",
    "        if self.activation is not None:\n",
    "            y = self.activation(y)\n",
    "        return y"
   ]
  },
  {
   "cell_type": "markdown",
   "id": "0585ecad",
   "metadata": {},
   "source": [
    "### 코드 3-23. 넘파이 데이터로 fit() 메소드 호출하기"
   ]
  },
  {
   "cell_type": "code",
   "execution_count": 260,
   "id": "524d6261",
   "metadata": {},
   "outputs": [],
   "source": [
    "model = keras.Sequential([keras.layers.Dense(1)]) # 선형 분류기 정의\n",
    "model.compile(optimizer = \"rmsprop\", # 최적화기는 RMSprop\n",
    "              loss = \"mean_squared_error\", # 손실 함수는 평균 제곱 오차\n",
    "              metrics = [\"accuracy\"]) # 측정 지표를 리스트로 정의, 정확도"
   ]
  },
  {
   "cell_type": "code",
   "execution_count": 261,
   "id": "72247c50",
   "metadata": {},
   "outputs": [
    {
     "name": "stdout",
     "output_type": "stream",
     "text": [
      "Epoch 1/5\n",
      "16/16 [==============================] - 0s 2ms/step - loss: 3.7933 - accuracy: 0.9915\n",
      "Epoch 2/5\n",
      "16/16 [==============================] - 0s 1ms/step - loss: 3.5578 - accuracy: 0.9915\n",
      "Epoch 3/5\n",
      "16/16 [==============================] - 0s 1ms/step - loss: 3.3579 - accuracy: 0.9910\n",
      "Epoch 4/5\n",
      "16/16 [==============================] - 0s 1ms/step - loss: 3.1703 - accuracy: 0.9910\n",
      "Epoch 5/5\n",
      "16/16 [==============================] - 0s 1ms/step - loss: 2.9908 - accuracy: 0.9910\n"
     ]
    }
   ],
   "source": [
    "history = model.fit(\n",
    "    inputs,\n",
    "    targets,\n",
    "    epochs = 5,\n",
    "    batch_size = 128\n",
    ")"
   ]
  },
  {
   "cell_type": "code",
   "execution_count": 262,
   "id": "e0c4241e",
   "metadata": {},
   "outputs": [
    {
     "data": {
      "text/plain": [
       "{'loss': [3.793286085128784,\n",
       "  3.5577585697174072,\n",
       "  3.357908010482788,\n",
       "  3.1703264713287354,\n",
       "  2.9907822608947754],\n",
       " 'accuracy': [0.9915000200271606,\n",
       "  0.9915000200271606,\n",
       "  0.9909999966621399,\n",
       "  0.9909999966621399,\n",
       "  0.9909999966621399]}"
      ]
     },
     "execution_count": 262,
     "metadata": {},
     "output_type": "execute_result"
    }
   ],
   "source": [
    "history.history"
   ]
  },
  {
   "cell_type": "code",
   "execution_count": null,
   "id": "e7c6fcf7",
   "metadata": {},
   "outputs": [],
   "source": []
  }
 ],
 "metadata": {
  "kernelspec": {
   "display_name": "Python 3 (ipykernel)",
   "language": "python",
   "name": "python3"
  },
  "language_info": {
   "codemirror_mode": {
    "name": "ipython",
    "version": 3
   },
   "file_extension": ".py",
   "mimetype": "text/x-python",
   "name": "python",
   "nbconvert_exporter": "python",
   "pygments_lexer": "ipython3",
   "version": "3.7.16"
  }
 },
 "nbformat": 4,
 "nbformat_minor": 5
}
