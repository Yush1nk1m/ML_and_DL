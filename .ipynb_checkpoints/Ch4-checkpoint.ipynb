{
 "cells": [
  {
   "cell_type": "markdown",
   "id": "350e76f6",
   "metadata": {},
   "source": [
    "# 4.1 영화 리뷰 분류: 이진 분류 문제(binary classification)"
   ]
  },
  {
   "cell_type": "markdown",
   "id": "d94123d9",
   "metadata": {},
   "source": [
    "## 4.1.1 IMDB 데이터셋"
   ]
  },
  {
   "cell_type": "markdown",
   "id": "d2916910",
   "metadata": {},
   "source": [
    "### 코드 4-1. IMDB 데이터셋 로드하기"
   ]
  },
  {
   "cell_type": "code",
   "execution_count": 2,
   "id": "3b371845",
   "metadata": {},
   "outputs": [
    {
     "name": "stdout",
     "output_type": "stream",
     "text": [
      "Downloading data from https://storage.googleapis.com/tensorflow/tf-keras-datasets/imdb.npz\n",
      "17464789/17464789 [==============================] - 8s 0us/step\n"
     ]
    }
   ],
   "source": [
    "from tensorflow.keras.datasets import imdb\n",
    "\n",
    "(train_data, train_labels), (test_data, test_labels) = imdb.load_data(num_words = 10000)\n",
    "# num_words: 훈련 데이터에서 사용할 단어의 개수(빈도 순), 원본은 88,585개의 고유한 단어가 존재한다."
   ]
  },
  {
   "cell_type": "code",
   "execution_count": 3,
   "id": "8916fe08",
   "metadata": {},
   "outputs": [
    {
     "data": {
      "text/plain": [
       "[1,\n",
       " 14,\n",
       " 22,\n",
       " 16,\n",
       " 43,\n",
       " 530,\n",
       " 973,\n",
       " 1622,\n",
       " 1385,\n",
       " 65,\n",
       " 458,\n",
       " 4468,\n",
       " 66,\n",
       " 3941,\n",
       " 4,\n",
       " 173,\n",
       " 36,\n",
       " 256,\n",
       " 5,\n",
       " 25,\n",
       " 100,\n",
       " 43,\n",
       " 838,\n",
       " 112,\n",
       " 50,\n",
       " 670,\n",
       " 2,\n",
       " 9,\n",
       " 35,\n",
       " 480,\n",
       " 284,\n",
       " 5,\n",
       " 150,\n",
       " 4,\n",
       " 172,\n",
       " 112,\n",
       " 167,\n",
       " 2,\n",
       " 336,\n",
       " 385,\n",
       " 39,\n",
       " 4,\n",
       " 172,\n",
       " 4536,\n",
       " 1111,\n",
       " 17,\n",
       " 546,\n",
       " 38,\n",
       " 13,\n",
       " 447,\n",
       " 4,\n",
       " 192,\n",
       " 50,\n",
       " 16,\n",
       " 6,\n",
       " 147,\n",
       " 2025,\n",
       " 19,\n",
       " 14,\n",
       " 22,\n",
       " 4,\n",
       " 1920,\n",
       " 4613,\n",
       " 469,\n",
       " 4,\n",
       " 22,\n",
       " 71,\n",
       " 87,\n",
       " 12,\n",
       " 16,\n",
       " 43,\n",
       " 530,\n",
       " 38,\n",
       " 76,\n",
       " 15,\n",
       " 13,\n",
       " 1247,\n",
       " 4,\n",
       " 22,\n",
       " 17,\n",
       " 515,\n",
       " 17,\n",
       " 12,\n",
       " 16,\n",
       " 626,\n",
       " 18,\n",
       " 2,\n",
       " 5,\n",
       " 62,\n",
       " 386,\n",
       " 12,\n",
       " 8,\n",
       " 316,\n",
       " 8,\n",
       " 106,\n",
       " 5,\n",
       " 4,\n",
       " 2223,\n",
       " 5244,\n",
       " 16,\n",
       " 480,\n",
       " 66,\n",
       " 3785,\n",
       " 33,\n",
       " 4,\n",
       " 130,\n",
       " 12,\n",
       " 16,\n",
       " 38,\n",
       " 619,\n",
       " 5,\n",
       " 25,\n",
       " 124,\n",
       " 51,\n",
       " 36,\n",
       " 135,\n",
       " 48,\n",
       " 25,\n",
       " 1415,\n",
       " 33,\n",
       " 6,\n",
       " 22,\n",
       " 12,\n",
       " 215,\n",
       " 28,\n",
       " 77,\n",
       " 52,\n",
       " 5,\n",
       " 14,\n",
       " 407,\n",
       " 16,\n",
       " 82,\n",
       " 2,\n",
       " 8,\n",
       " 4,\n",
       " 107,\n",
       " 117,\n",
       " 5952,\n",
       " 15,\n",
       " 256,\n",
       " 4,\n",
       " 2,\n",
       " 7,\n",
       " 3766,\n",
       " 5,\n",
       " 723,\n",
       " 36,\n",
       " 71,\n",
       " 43,\n",
       " 530,\n",
       " 476,\n",
       " 26,\n",
       " 400,\n",
       " 317,\n",
       " 46,\n",
       " 7,\n",
       " 4,\n",
       " 2,\n",
       " 1029,\n",
       " 13,\n",
       " 104,\n",
       " 88,\n",
       " 4,\n",
       " 381,\n",
       " 15,\n",
       " 297,\n",
       " 98,\n",
       " 32,\n",
       " 2071,\n",
       " 56,\n",
       " 26,\n",
       " 141,\n",
       " 6,\n",
       " 194,\n",
       " 7486,\n",
       " 18,\n",
       " 4,\n",
       " 226,\n",
       " 22,\n",
       " 21,\n",
       " 134,\n",
       " 476,\n",
       " 26,\n",
       " 480,\n",
       " 5,\n",
       " 144,\n",
       " 30,\n",
       " 5535,\n",
       " 18,\n",
       " 51,\n",
       " 36,\n",
       " 28,\n",
       " 224,\n",
       " 92,\n",
       " 25,\n",
       " 104,\n",
       " 4,\n",
       " 226,\n",
       " 65,\n",
       " 16,\n",
       " 38,\n",
       " 1334,\n",
       " 88,\n",
       " 12,\n",
       " 16,\n",
       " 283,\n",
       " 5,\n",
       " 16,\n",
       " 4472,\n",
       " 113,\n",
       " 103,\n",
       " 32,\n",
       " 15,\n",
       " 16,\n",
       " 5345,\n",
       " 19,\n",
       " 178,\n",
       " 32]"
      ]
     },
     "execution_count": 3,
     "metadata": {},
     "output_type": "execute_result"
    }
   ],
   "source": [
    "train_data[0]"
   ]
  },
  {
   "cell_type": "code",
   "execution_count": 4,
   "id": "00d62740",
   "metadata": {},
   "outputs": [
    {
     "data": {
      "text/plain": [
       "1"
      ]
     },
     "execution_count": 4,
     "metadata": {},
     "output_type": "execute_result"
    }
   ],
   "source": [
    "train_labels[0]"
   ]
  },
  {
   "cell_type": "code",
   "execution_count": 5,
   "id": "4c51072a",
   "metadata": {},
   "outputs": [
    {
     "data": {
      "text/plain": [
       "9999"
      ]
     },
     "execution_count": 5,
     "metadata": {},
     "output_type": "execute_result"
    }
   ],
   "source": [
    "max([max(sequence) for sequence in train_data])"
   ]
  },
  {
   "cell_type": "markdown",
   "id": "241cce00",
   "metadata": {},
   "source": [
    "### 코드 4-2. 리뷰를 다시 텍스트로 디코딩하기"
   ]
  },
  {
   "cell_type": "code",
   "execution_count": 6,
   "id": "0e52075c",
   "metadata": {},
   "outputs": [
    {
     "name": "stdout",
     "output_type": "stream",
     "text": [
      "Downloading data from https://storage.googleapis.com/tensorflow/tf-keras-datasets/imdb_word_index.json\n",
      "1641221/1641221 [==============================] - 0s 0us/step\n"
     ]
    }
   ],
   "source": [
    "word_index = imdb.get_word_index() # 단어 -> 정수 인덱스로 매핑된 딕셔너리\n",
    "\n",
    "reverse_word_index = dict([(value, key) for (key, value) in word_index.items()]) # 정수 인덱스 -> 단어로 매핑되도록 뒤집는다.\n",
    "\n",
    "decoded_review = \" \".join([reverse_word_index.get(i - 3, \"?\") for i in train_data[0]])"
   ]
  },
  {
   "cell_type": "code",
   "execution_count": 7,
   "id": "55fa2693",
   "metadata": {},
   "outputs": [
    {
     "data": {
      "text/plain": [
       "\"? this film was just brilliant casting location scenery story direction everyone's really suited the part they played and you could just imagine being there robert ? is an amazing actor and now the same being director ? father came from the same scottish island as myself so i loved the fact there was a real connection with this film the witty remarks throughout the film were great it was just brilliant so much that i bought the film as soon as it was released for ? and would recommend it to everyone to watch and the fly fishing was amazing really cried at the end it was so sad and you know what they say if you cry at a film it must have been good and this definitely was also ? to the two little boy's that played the ? of norman and paul they were just brilliant children are often left out of the ? list i think because the stars that play them all grown up are such a big profile for the whole film but these children are amazing and should be praised for what they have done don't you think the whole story was so lovely because it was true and was someone's life after all that was shared with us all\""
      ]
     },
     "execution_count": 7,
     "metadata": {},
     "output_type": "execute_result"
    }
   ],
   "source": [
    "decoded_review"
   ]
  },
  {
   "cell_type": "markdown",
   "id": "957920e4",
   "metadata": {},
   "source": [
    "## 4.1.2 데이터 준비"
   ]
  },
  {
   "cell_type": "markdown",
   "id": "5c666d57",
   "metadata": {},
   "source": [
    "### 코드 4-3. 정수 시퀀스를 멀티-핫 인코딩으로 인코딩하기"
   ]
  },
  {
   "cell_type": "code",
   "execution_count": 8,
   "id": "44cb63ef",
   "metadata": {},
   "outputs": [],
   "source": [
    "import numpy as np\n",
    "\n",
    "def vectorize_sequences(sequences, dimension = 10000):\n",
    "    results = np.zeros((len(sequences), dimension)) # 크기가 (len(sequences) (데이터 개수), dimension)이고 모든 원소가 0인 행렬\n",
    "    for i, sequence in enumerate(sequences): # 데이터의 인덱스와 데이터 안에 있는 단어 인덱스의 sequence 추출\n",
    "        for j in sequence: # 데이터 안에 있는 각각의 단어 인덱스 추출\n",
    "            results[i][j] = 1\n",
    "    return results\n",
    "\n",
    "x_train = vectorize_sequences(train_data) # 훈련 데이터를 벡터로 변환\n",
    "x_test = vectorize_sequences(test_data) # 테스트 데이터를 벡터로 변환"
   ]
  },
  {
   "cell_type": "code",
   "execution_count": 9,
   "id": "8b085f90",
   "metadata": {},
   "outputs": [
    {
     "data": {
      "text/plain": [
       "array([0., 1., 1., ..., 0., 0., 0.])"
      ]
     },
     "execution_count": 9,
     "metadata": {},
     "output_type": "execute_result"
    }
   ],
   "source": [
    "x_train[0]"
   ]
  },
  {
   "cell_type": "code",
   "execution_count": 10,
   "id": "1f3e1c45",
   "metadata": {},
   "outputs": [],
   "source": [
    "y_train = np.asarray(train_labels).astype(\"float32\")\n",
    "y_test = np.asarray(test_labels).astype(\"float32\")"
   ]
  },
  {
   "cell_type": "markdown",
   "id": "5d6390eb",
   "metadata": {},
   "source": [
    "## 4.1.3 신경망 모델 만들기"
   ]
  },
  {
   "cell_type": "markdown",
   "id": "bc542c30",
   "metadata": {},
   "source": [
    "### 코드 4-4. 모델 정의하기"
   ]
  },
  {
   "cell_type": "code",
   "execution_count": 11,
   "id": "e8d0c877",
   "metadata": {},
   "outputs": [],
   "source": [
    "from tensorflow import keras\n",
    "from tensorflow.keras import layers"
   ]
  },
  {
   "cell_type": "code",
   "execution_count": 13,
   "id": "d0a5f21d",
   "metadata": {},
   "outputs": [],
   "source": [
    "model = keras.Sequential([\n",
    "    layers.Dense(16, activation = \"relu\"),\n",
    "    layers.Dense(16, activation = \"relu\"),\n",
    "    layers.Dense(1, activation = \"sigmoid\")\n",
    "])"
   ]
  },
  {
   "cell_type": "markdown",
   "id": "76c6cf47",
   "metadata": {},
   "source": [
    "### 코드 4-5. 모델 컴파일하기"
   ]
  },
  {
   "cell_type": "code",
   "execution_count": 14,
   "id": "1900bcb1",
   "metadata": {},
   "outputs": [],
   "source": [
    "model.compile(optimizer = \"rmsprop\",\n",
    "              loss = \"binary_crossentropy\",\n",
    "              metrics = [\"accuracy\"])"
   ]
  },
  {
   "cell_type": "markdown",
   "id": "09b8ea01",
   "metadata": {},
   "source": [
    "## 4.1.4 훈련 검증"
   ]
  },
  {
   "cell_type": "markdown",
   "id": "31f53a53",
   "metadata": {},
   "source": [
    "### 코드 4-6. 검증 세트 준비하기"
   ]
  },
  {
   "cell_type": "code",
   "execution_count": 15,
   "id": "03a48fe9",
   "metadata": {},
   "outputs": [],
   "source": [
    "x_val = x_train[:10000]\n",
    "partial_x_train = x_train[10000:]\n",
    "y_val = y_train[:10000]\n",
    "partial_y_train = y_train[10000:]"
   ]
  },
  {
   "cell_type": "markdown",
   "id": "b25c4fd0",
   "metadata": {},
   "source": [
    "### 코드 4-7. 모델 훈련하기"
   ]
  },
  {
   "cell_type": "code",
   "execution_count": 16,
   "id": "60714f73",
   "metadata": {},
   "outputs": [
    {
     "name": "stdout",
     "output_type": "stream",
     "text": [
      "Epoch 1/20\n",
      "30/30 [==============================] - 2s 36ms/step - loss: 0.5255 - accuracy: 0.7747 - val_loss: 0.3895 - val_accuracy: 0.8743\n",
      "Epoch 2/20\n",
      "30/30 [==============================] - 0s 13ms/step - loss: 0.3152 - accuracy: 0.8980 - val_loss: 0.3084 - val_accuracy: 0.8859\n",
      "Epoch 3/20\n",
      "30/30 [==============================] - 0s 13ms/step - loss: 0.2259 - accuracy: 0.9246 - val_loss: 0.3166 - val_accuracy: 0.8736\n",
      "Epoch 4/20\n",
      "30/30 [==============================] - 0s 13ms/step - loss: 0.1808 - accuracy: 0.9405 - val_loss: 0.2751 - val_accuracy: 0.8888\n",
      "Epoch 5/20\n",
      "30/30 [==============================] - 0s 12ms/step - loss: 0.1436 - accuracy: 0.9537 - val_loss: 0.2826 - val_accuracy: 0.8887\n",
      "Epoch 6/20\n",
      "30/30 [==============================] - 0s 13ms/step - loss: 0.1184 - accuracy: 0.9637 - val_loss: 0.2961 - val_accuracy: 0.8833\n",
      "Epoch 7/20\n",
      "30/30 [==============================] - 0s 13ms/step - loss: 0.0964 - accuracy: 0.9720 - val_loss: 0.3139 - val_accuracy: 0.8849\n",
      "Epoch 8/20\n",
      "30/30 [==============================] - 0s 14ms/step - loss: 0.0783 - accuracy: 0.9777 - val_loss: 0.3484 - val_accuracy: 0.8789\n",
      "Epoch 9/20\n",
      "30/30 [==============================] - 0s 13ms/step - loss: 0.0656 - accuracy: 0.9825 - val_loss: 0.3975 - val_accuracy: 0.8709\n",
      "Epoch 10/20\n",
      "30/30 [==============================] - 0s 14ms/step - loss: 0.0485 - accuracy: 0.9886 - val_loss: 0.3888 - val_accuracy: 0.8748\n",
      "Epoch 11/20\n",
      "30/30 [==============================] - 0s 14ms/step - loss: 0.0413 - accuracy: 0.9910 - val_loss: 0.4101 - val_accuracy: 0.8790\n",
      "Epoch 12/20\n",
      "30/30 [==============================] - 0s 15ms/step - loss: 0.0313 - accuracy: 0.9937 - val_loss: 0.4442 - val_accuracy: 0.8753\n",
      "Epoch 13/20\n",
      "30/30 [==============================] - 0s 14ms/step - loss: 0.0250 - accuracy: 0.9950 - val_loss: 0.4712 - val_accuracy: 0.8744\n",
      "Epoch 14/20\n",
      "30/30 [==============================] - 0s 15ms/step - loss: 0.0176 - accuracy: 0.9977 - val_loss: 0.5130 - val_accuracy: 0.8726\n",
      "Epoch 15/20\n",
      "30/30 [==============================] - 0s 15ms/step - loss: 0.0158 - accuracy: 0.9972 - val_loss: 0.5428 - val_accuracy: 0.8710\n",
      "Epoch 16/20\n",
      "30/30 [==============================] - 0s 15ms/step - loss: 0.0106 - accuracy: 0.9994 - val_loss: 0.5791 - val_accuracy: 0.8690\n",
      "Epoch 17/20\n",
      "30/30 [==============================] - 0s 14ms/step - loss: 0.0102 - accuracy: 0.9985 - val_loss: 0.6120 - val_accuracy: 0.8708\n",
      "Epoch 18/20\n",
      "30/30 [==============================] - 0s 14ms/step - loss: 0.0046 - accuracy: 0.9998 - val_loss: 0.6466 - val_accuracy: 0.8690\n",
      "Epoch 19/20\n",
      "30/30 [==============================] - 0s 15ms/step - loss: 0.0080 - accuracy: 0.9982 - val_loss: 0.6772 - val_accuracy: 0.8698\n",
      "Epoch 20/20\n",
      "30/30 [==============================] - 0s 14ms/step - loss: 0.0025 - accuracy: 0.9999 - val_loss: 0.7049 - val_accuracy: 0.8675\n"
     ]
    }
   ],
   "source": [
    "history = model.fit(partial_x_train,\n",
    "                    partial_y_train,\n",
    "                    epochs = 20,\n",
    "                    batch_size = 512,\n",
    "                    validation_data = (x_val, y_val))"
   ]
  },
  {
   "cell_type": "code",
   "execution_count": 17,
   "id": "f51d7e68",
   "metadata": {},
   "outputs": [],
   "source": [
    "history_dict = history.history"
   ]
  },
  {
   "cell_type": "code",
   "execution_count": 18,
   "id": "e97b32f3",
   "metadata": {},
   "outputs": [
    {
     "data": {
      "text/plain": [
       "dict_keys(['loss', 'accuracy', 'val_loss', 'val_accuracy'])"
      ]
     },
     "execution_count": 18,
     "metadata": {},
     "output_type": "execute_result"
    }
   ],
   "source": [
    "history_dict.keys()"
   ]
  },
  {
   "cell_type": "markdown",
   "id": "6e12c219",
   "metadata": {},
   "source": [
    "### 코드 4-8. 훈련과 검증 손실 그리기"
   ]
  },
  {
   "cell_type": "code",
   "execution_count": 49,
   "id": "568bce99",
   "metadata": {},
   "outputs": [
    {
     "data": {
      "image/png": "[encoded data removed]",
      "text/plain": [
       "<Figure size 640x480 with 1 Axes>"
      ]
     },
     "metadata": {},
     "output_type": "display_data"
    }
   ],
   "source": [
    "import matplotlib.pyplot as plt\n",
    "\n",
    "history_dict = history.history\n",
    "loss_values = history_dict[\"loss\"]\n",
    "val_loss_values = history_dict[\"val_loss\"]\n",
    "epochs = range(1, len(loss_values) + 1)\n",
    "\n",
    "plt.plot(epochs, loss_values, \"bo\", label = \"Training loss\")\n",
    "plt.plot(epochs, val_loss_values, \"r\", label = \"Validation loss\")\n",
    "\n",
    "plt.title(\"Training and validation loss\")\n",
    "plt.xlabel(\"Epochs\")\n",
    "plt.ylabel(\"Loss\")\n",
    "plt.legend()\n",
    "plt.show()"
   ]
  },
  {
   "cell_type": "markdown",
   "id": "a4da3023",
   "metadata": {},
   "source": [
    "### 코드 4-9. 훈련과 검증 정확도 그리기"
   ]
  },
  {
   "cell_type": "code",
   "execution_count": 21,
   "id": "04a79497",
   "metadata": {},
   "outputs": [
    {
     "data": {
      "image/png": "[encoded data removed]",
      "text/plain": [
       "<Figure size 640x480 with 1 Axes>"
      ]
     },
     "metadata": {},
     "output_type": "display_data"
    }
   ],
   "source": [
    "plt.clf() # 그래프 초기화\n",
    "\n",
    "acc = history_dict[\"accuracy\"]\n",
    "val_acc = history_dict[\"val_accuracy\"]\n",
    "\n",
    "plt.plot(epochs, acc, \"bo\", label = \"Training acc\")\n",
    "plt.plot(epochs, val_acc, \"r\", label = \"Validation acc\")\n",
    "\n",
    "plt.title(\"Training and validation accuracy\")\n",
    "plt.xlabel(\"Epochs\")\n",
    "plt.ylabel(\"Accuracy\")\n",
    "plt.legend()\n",
    "plt.show()"
   ]
  },
  {
   "cell_type": "markdown",
   "id": "1d872fe3",
   "metadata": {},
   "source": [
    "### 코드 4-10. 모델을 처음부터 다시 훈련하기"
   ]
  },
  {
   "cell_type": "code",
   "execution_count": 22,
   "id": "1f01855c",
   "metadata": {},
   "outputs": [],
   "source": [
    "model = keras.Sequential([\n",
    "    layers.Dense(16, activation = \"relu\"),\n",
    "    layers.Dense(16, activation = \"relu\"),\n",
    "    layers.Dense(1, activation = \"sigmoid\")\n",
    "])"
   ]
  },
  {
   "cell_type": "code",
   "execution_count": 23,
   "id": "8710b384",
   "metadata": {},
   "outputs": [],
   "source": [
    "model.compile(optimizer = \"rmsprop\",\n",
    "              loss = \"binary_crossentropy\",\n",
    "              metrics = [\"accuracy\"])"
   ]
  },
  {
   "cell_type": "code",
   "execution_count": 24,
   "id": "1b8cba88",
   "metadata": {},
   "outputs": [
    {
     "name": "stdout",
     "output_type": "stream",
     "text": [
      "Epoch 1/4\n",
      "49/49 [==============================] - 1s 9ms/step - loss: 0.4784 - accuracy: 0.8238\n",
      "Epoch 2/4\n",
      "49/49 [==============================] - 0s 9ms/step - loss: 0.2744 - accuracy: 0.9063\n",
      "Epoch 3/4\n",
      "49/49 [==============================] - 0s 8ms/step - loss: 0.2087 - accuracy: 0.9274\n",
      "Epoch 4/4\n",
      "49/49 [==============================] - 0s 9ms/step - loss: 0.1719 - accuracy: 0.9395\n"
     ]
    },
    {
     "data": {
      "text/plain": [
       "<keras.callbacks.History at 0x20e11d68608>"
      ]
     },
     "execution_count": 24,
     "metadata": {},
     "output_type": "execute_result"
    }
   ],
   "source": [
    "model.fit(x_train, y_train, epochs = 4, batch_size = 512)"
   ]
  },
  {
   "cell_type": "code",
   "execution_count": 25,
   "id": "8671512a",
   "metadata": {},
   "outputs": [
    {
     "name": "stdout",
     "output_type": "stream",
     "text": [
      "782/782 [==============================] - 1s 2ms/step - loss: 0.2894 - accuracy: 0.8849\n"
     ]
    }
   ],
   "source": [
    "results = model.evaluate(x_test, y_test)"
   ]
  },
  {
   "cell_type": "markdown",
   "id": "5ae95fdf",
   "metadata": {},
   "source": [
    "## 4.1.5 훈련된 모델로 새로운 데이터에 대해 예측하기"
   ]
  },
  {
   "cell_type": "code",
   "execution_count": 26,
   "id": "92b80895",
   "metadata": {},
   "outputs": [
    {
     "name": "stdout",
     "output_type": "stream",
     "text": [
      "782/782 [==============================] - 1s 2ms/step\n"
     ]
    },
    {
     "data": {
      "text/plain": [
       "array([[0.14796261],\n",
       "       [0.9996344 ],\n",
       "       [0.8050122 ],\n",
       "       ...,\n",
       "       [0.11236499],\n",
       "       [0.04896521],\n",
       "       [0.53813255]], dtype=float32)"
      ]
     },
     "execution_count": 26,
     "metadata": {},
     "output_type": "execute_result"
    }
   ],
   "source": [
    "model.predict(x_test)"
   ]
  },
  {
   "cell_type": "markdown",
   "id": "d83c0414",
   "metadata": {},
   "source": [
    "## 4.1.6 추가 실험"
   ]
  },
  {
   "cell_type": "markdown",
   "id": "5a07cab5",
   "metadata": {},
   "source": [
    "### 표현 층이 1개인 경우"
   ]
  },
  {
   "cell_type": "code",
   "execution_count": 44,
   "id": "dbe373b1",
   "metadata": {},
   "outputs": [],
   "source": [
    "model = keras.Sequential([\n",
    "    layers.Dense(16, activation = \"relu\"),\n",
    "    layers.Dense(1, activation = \"sigmoid\")\n",
    "])"
   ]
  },
  {
   "cell_type": "code",
   "execution_count": 45,
   "id": "948d309f",
   "metadata": {},
   "outputs": [],
   "source": [
    "model.compile(optimizer = \"rmsprop\",\n",
    "              loss = \"binary_crossentropy\",\n",
    "              metrics = [\"accuracy\"])"
   ]
  },
  {
   "cell_type": "code",
   "execution_count": 46,
   "id": "3eaa7171",
   "metadata": {
    "scrolled": true
   },
   "outputs": [
    {
     "name": "stdout",
     "output_type": "stream",
     "text": [
      "Epoch 1/20\n",
      "30/30 [==============================] - 1s 24ms/step - loss: 0.4908 - accuracy: 0.7915 - val_loss: 0.3738 - val_accuracy: 0.8738\n",
      "Epoch 2/20\n",
      "30/30 [==============================] - 0s 13ms/step - loss: 0.3063 - accuracy: 0.9015 - val_loss: 0.3115 - val_accuracy: 0.8871\n",
      "Epoch 3/20\n",
      "30/30 [==============================] - 0s 13ms/step - loss: 0.2346 - accuracy: 0.9275 - val_loss: 0.2854 - val_accuracy: 0.8898\n",
      "Epoch 4/20\n",
      "30/30 [==============================] - 0s 12ms/step - loss: 0.1922 - accuracy: 0.9408 - val_loss: 0.2739 - val_accuracy: 0.8917\n",
      "Epoch 5/20\n",
      "30/30 [==============================] - 0s 13ms/step - loss: 0.1629 - accuracy: 0.9497 - val_loss: 0.2730 - val_accuracy: 0.8904\n",
      "Epoch 6/20\n",
      "30/30 [==============================] - 0s 13ms/step - loss: 0.1415 - accuracy: 0.9583 - val_loss: 0.2773 - val_accuracy: 0.8876\n",
      "Epoch 7/20\n",
      "30/30 [==============================] - 0s 13ms/step - loss: 0.1223 - accuracy: 0.9653 - val_loss: 0.2980 - val_accuracy: 0.8799\n",
      "Epoch 8/20\n",
      "30/30 [==============================] - 0s 13ms/step - loss: 0.1071 - accuracy: 0.9711 - val_loss: 0.2916 - val_accuracy: 0.8846\n",
      "Epoch 9/20\n",
      "30/30 [==============================] - 0s 13ms/step - loss: 0.0944 - accuracy: 0.9750 - val_loss: 0.3196 - val_accuracy: 0.8773\n",
      "Epoch 10/20\n",
      "30/30 [==============================] - 0s 13ms/step - loss: 0.0843 - accuracy: 0.9784 - val_loss: 0.3158 - val_accuracy: 0.8837\n",
      "Epoch 11/20\n",
      "30/30 [==============================] - 0s 14ms/step - loss: 0.0725 - accuracy: 0.9837 - val_loss: 0.3337 - val_accuracy: 0.8765\n",
      "Epoch 12/20\n",
      "30/30 [==============================] - 0s 13ms/step - loss: 0.0665 - accuracy: 0.9849 - val_loss: 0.3428 - val_accuracy: 0.8826\n",
      "Epoch 13/20\n",
      "30/30 [==============================] - 0s 13ms/step - loss: 0.0571 - accuracy: 0.9875 - val_loss: 0.3612 - val_accuracy: 0.8739\n",
      "Epoch 14/20\n",
      "30/30 [==============================] - 0s 13ms/step - loss: 0.0510 - accuracy: 0.9902 - val_loss: 0.3793 - val_accuracy: 0.8717\n",
      "Epoch 15/20\n",
      "30/30 [==============================] - 0s 13ms/step - loss: 0.0455 - accuracy: 0.9917 - val_loss: 0.3872 - val_accuracy: 0.8775\n",
      "Epoch 16/20\n",
      "30/30 [==============================] - 0s 13ms/step - loss: 0.0403 - accuracy: 0.9929 - val_loss: 0.4050 - val_accuracy: 0.8717\n",
      "Epoch 17/20\n",
      "30/30 [==============================] - 0s 13ms/step - loss: 0.0343 - accuracy: 0.9949 - val_loss: 0.4323 - val_accuracy: 0.8733\n",
      "Epoch 18/20\n",
      "30/30 [==============================] - 0s 14ms/step - loss: 0.0301 - accuracy: 0.9958 - val_loss: 0.4396 - val_accuracy: 0.8733\n",
      "Epoch 19/20\n",
      "30/30 [==============================] - 0s 13ms/step - loss: 0.0269 - accuracy: 0.9964 - val_loss: 0.4612 - val_accuracy: 0.8696\n",
      "Epoch 20/20\n",
      "30/30 [==============================] - 0s 13ms/step - loss: 0.0223 - accuracy: 0.9978 - val_loss: 0.4867 - val_accuracy: 0.8673\n"
     ]
    }
   ],
   "source": [
    "history = model.fit(partial_x_train, partial_y_train, epochs = 20, batch_size = 512, validation_data = (x_val, y_val))"
   ]
  },
  {
   "cell_type": "code",
   "execution_count": 50,
   "id": "6c85b9a9",
   "metadata": {
    "scrolled": true
   },
   "outputs": [
    {
     "data": {
      "image/png": "[encoded data removed]",
      "text/plain": [
       "<Figure size 640x480 with 1 Axes>"
      ]
     },
     "metadata": {},
     "output_type": "display_data"
    }
   ],
   "source": [
    "import matplotlib.pyplot as plt\n",
    "\n",
    "history_dict = history.history\n",
    "loss_values = history_dict[\"loss\"]\n",
    "val_loss_values = history_dict[\"val_loss\"]\n",
    "epochs = range(1, len(loss_values) + 1)\n",
    "\n",
    "plt.plot(epochs, loss_values, \"bo\", label = \"Training loss\")\n",
    "plt.plot(epochs, val_loss_values, \"r\", label = \"Validation loss\")\n",
    "\n",
    "plt.title(\"Training and validation loss\")\n",
    "plt.xlabel(\"Epochs\")\n",
    "plt.ylabel(\"Loss\")\n",
    "plt.legend()\n",
    "plt.show()"
   ]
  },
  {
   "cell_type": "code",
   "execution_count": 51,
   "id": "e9d20bb7",
   "metadata": {
    "scrolled": true
   },
   "outputs": [
    {
     "data": {
      "image/png": "[encoded data removed]",
      "text/plain": [
       "<Figure size 640x480 with 1 Axes>"
      ]
     },
     "metadata": {},
     "output_type": "display_data"
    }
   ],
   "source": [
    "plt.clf() # 그래프 초기화\n",
    "\n",
    "acc = history_dict[\"accuracy\"]\n",
    "val_acc = history_dict[\"val_accuracy\"]\n",
    "\n",
    "plt.plot(epochs, acc, \"bo\", label = \"Training acc\")\n",
    "plt.plot(epochs, val_acc, \"r\", label = \"Validation acc\")\n",
    "\n",
    "plt.title(\"Training and validation accuracy\")\n",
    "plt.xlabel(\"Epochs\")\n",
    "plt.ylabel(\"Accuracy\")\n",
    "plt.legend()\n",
    "plt.show()"
   ]
  },
  {
   "cell_type": "code",
   "execution_count": 52,
   "id": "e3d551c4",
   "metadata": {},
   "outputs": [],
   "source": [
    "# 적절한 epoch 횟수는 4회로 판단되므로 다시 모델 학습하기\n",
    "\n",
    "model = keras.Sequential([\n",
    "    layers.Dense(16, activation = \"relu\"),\n",
    "    layers.Dense(1, activation = \"sigmoid\")\n",
    "])"
   ]
  },
  {
   "cell_type": "code",
   "execution_count": 53,
   "id": "bb8e2b7f",
   "metadata": {},
   "outputs": [],
   "source": [
    "model.compile(optimizer = \"rmsprop\",\n",
    "              loss = \"binary_crossentropy\",\n",
    "              metrics = [\"accuracy\"])"
   ]
  },
  {
   "cell_type": "code",
   "execution_count": 54,
   "id": "754cec07",
   "metadata": {},
   "outputs": [
    {
     "name": "stdout",
     "output_type": "stream",
     "text": [
      "Epoch 1/4\n",
      "49/49 [==============================] - 1s 10ms/step - loss: 0.4352 - accuracy: 0.8328\n",
      "Epoch 2/4\n",
      "49/49 [==============================] - 0s 9ms/step - loss: 0.2708 - accuracy: 0.9077\n",
      "Epoch 3/4\n",
      "49/49 [==============================] - 0s 8ms/step - loss: 0.2152 - accuracy: 0.9261\n",
      "Epoch 4/4\n",
      "49/49 [==============================] - 0s 9ms/step - loss: 0.1827 - accuracy: 0.9372\n"
     ]
    },
    {
     "data": {
      "text/plain": [
       "<keras.callbacks.History at 0x20e1347bd48>"
      ]
     },
     "execution_count": 54,
     "metadata": {},
     "output_type": "execute_result"
    }
   ],
   "source": [
    "model.fit(x_train, y_train, epochs = 4, batch_size = 512)"
   ]
  },
  {
   "cell_type": "code",
   "execution_count": 55,
   "id": "c606c497",
   "metadata": {},
   "outputs": [
    {
     "name": "stdout",
     "output_type": "stream",
     "text": [
      "782/782 [==============================] - 2s 2ms/step - loss: 0.2862 - accuracy: 0.8851\n"
     ]
    },
    {
     "data": {
      "text/plain": [
       "[0.2862327992916107, 0.8851199746131897]"
      ]
     },
     "execution_count": 55,
     "metadata": {},
     "output_type": "execute_result"
    }
   ],
   "source": [
    "model.evaluate(x_test, y_test)"
   ]
  },
  {
   "cell_type": "markdown",
   "id": "7c8f7b26",
   "metadata": {},
   "source": [
    "### 표현 층이 3개인 경우"
   ]
  },
  {
   "cell_type": "code",
   "execution_count": 56,
   "id": "d0a39f55",
   "metadata": {},
   "outputs": [],
   "source": [
    "model = keras.Sequential([\n",
    "    layers.Dense(16, activation = \"relu\"),\n",
    "    layers.Dense(16, activation = \"relu\"),\n",
    "    layers.Dense(16, activation = \"relu\"),\n",
    "    layers.Dense(1, activation = \"sigmoid\")\n",
    "])"
   ]
  },
  {
   "cell_type": "code",
   "execution_count": 57,
   "id": "3fc909d9",
   "metadata": {},
   "outputs": [],
   "source": [
    "model.compile(optimizer = \"rmsprop\",\n",
    "              loss = \"binary_crossentropy\",\n",
    "              metrics = [\"accuracy\"])"
   ]
  },
  {
   "cell_type": "code",
   "execution_count": 59,
   "id": "b3a4805b",
   "metadata": {},
   "outputs": [
    {
     "name": "stdout",
     "output_type": "stream",
     "text": [
      "Epoch 1/20\n",
      "30/30 [==============================] - 2s 24ms/step - loss: 0.5004 - accuracy: 0.7783 - val_loss: 0.3644 - val_accuracy: 0.8674\n",
      "Epoch 2/20\n",
      "30/30 [==============================] - 0s 13ms/step - loss: 0.2814 - accuracy: 0.9031 - val_loss: 0.3149 - val_accuracy: 0.8761\n",
      "Epoch 3/20\n",
      "30/30 [==============================] - 0s 13ms/step - loss: 0.2050 - accuracy: 0.9295 - val_loss: 0.2897 - val_accuracy: 0.8843\n",
      "Epoch 4/20\n",
      "30/30 [==============================] - 0s 14ms/step - loss: 0.1574 - accuracy: 0.9473 - val_loss: 0.3058 - val_accuracy: 0.8795\n",
      "Epoch 5/20\n",
      "30/30 [==============================] - 0s 14ms/step - loss: 0.1243 - accuracy: 0.9588 - val_loss: 0.3151 - val_accuracy: 0.8789\n",
      "Epoch 6/20\n",
      "30/30 [==============================] - 0s 13ms/step - loss: 0.0995 - accuracy: 0.9671 - val_loss: 0.3219 - val_accuracy: 0.8806\n",
      "Epoch 7/20\n",
      "30/30 [==============================] - 0s 13ms/step - loss: 0.0786 - accuracy: 0.9759 - val_loss: 0.3724 - val_accuracy: 0.8737\n",
      "Epoch 8/20\n",
      "30/30 [==============================] - 0s 14ms/step - loss: 0.0607 - accuracy: 0.9812 - val_loss: 0.4055 - val_accuracy: 0.8748\n",
      "Epoch 9/20\n",
      "30/30 [==============================] - 0s 14ms/step - loss: 0.0451 - accuracy: 0.9881 - val_loss: 0.4248 - val_accuracy: 0.8734\n",
      "Epoch 10/20\n",
      "30/30 [==============================] - 0s 14ms/step - loss: 0.0389 - accuracy: 0.9893 - val_loss: 0.4618 - val_accuracy: 0.8710\n",
      "Epoch 11/20\n",
      "30/30 [==============================] - 0s 13ms/step - loss: 0.0321 - accuracy: 0.9914 - val_loss: 0.4839 - val_accuracy: 0.8747\n",
      "Epoch 12/20\n",
      "30/30 [==============================] - 0s 14ms/step - loss: 0.0225 - accuracy: 0.9943 - val_loss: 0.5234 - val_accuracy: 0.8741\n",
      "Epoch 13/20\n",
      "30/30 [==============================] - 0s 14ms/step - loss: 0.0099 - accuracy: 0.9993 - val_loss: 0.5806 - val_accuracy: 0.8695\n",
      "Epoch 14/20\n",
      "30/30 [==============================] - 0s 14ms/step - loss: 0.0148 - accuracy: 0.9961 - val_loss: 0.6070 - val_accuracy: 0.8720\n",
      "Epoch 15/20\n",
      "30/30 [==============================] - 0s 14ms/step - loss: 0.0117 - accuracy: 0.9971 - val_loss: 0.8005 - val_accuracy: 0.8489\n",
      "Epoch 16/20\n",
      "30/30 [==============================] - 0s 14ms/step - loss: 0.0041 - accuracy: 0.9995 - val_loss: 0.6848 - val_accuracy: 0.8697\n",
      "Epoch 17/20\n",
      "30/30 [==============================] - 0s 14ms/step - loss: 0.0023 - accuracy: 0.9999 - val_loss: 0.7637 - val_accuracy: 0.8646\n",
      "Epoch 18/20\n",
      "30/30 [==============================] - 0s 14ms/step - loss: 0.0115 - accuracy: 0.9965 - val_loss: 0.7493 - val_accuracy: 0.8669\n",
      "Epoch 19/20\n",
      "30/30 [==============================] - 0s 14ms/step - loss: 0.0014 - accuracy: 0.9999 - val_loss: 0.8812 - val_accuracy: 0.8536\n",
      "Epoch 20/20\n",
      "30/30 [==============================] - 0s 14ms/step - loss: 0.0120 - accuracy: 0.9959 - val_loss: 0.8333 - val_accuracy: 0.8664\n"
     ]
    }
   ],
   "source": [
    "history = model.fit(partial_x_train, partial_y_train, epochs = 20, batch_size = 512, validation_data = (x_val, y_val))"
   ]
  },
  {
   "cell_type": "code",
   "execution_count": 60,
   "id": "a8c32fc3",
   "metadata": {},
   "outputs": [
    {
     "data": {
      "image/png": "[encoded data removed]",
      "text/plain": [
       "<Figure size 640x480 with 1 Axes>"
      ]
     },
     "metadata": {},
     "output_type": "display_data"
    }
   ],
   "source": [
    "import matplotlib.pyplot as plt\n",
    "\n",
    "history_dict = history.history\n",
    "loss_values = history_dict[\"loss\"]\n",
    "val_loss_values = history_dict[\"val_loss\"]\n",
    "epochs = range(1, len(loss_values) + 1)\n",
    "\n",
    "plt.plot(epochs, loss_values, \"bo\", label = \"Training loss\")\n",
    "plt.plot(epochs, val_loss_values, \"r\", label = \"Validation loss\")\n",
    "\n",
    "plt.title(\"Training and validation loss\")\n",
    "plt.xlabel(\"Epochs\")\n",
    "plt.ylabel(\"Loss\")\n",
    "plt.legend()\n",
    "plt.show()"
   ]
  },
  {
   "cell_type": "code",
   "execution_count": 61,
   "id": "35320999",
   "metadata": {},
   "outputs": [
    {
     "data": {
      "image/png": "[encoded data removed]",
      "text/plain": [
       "<Figure size 640x480 with 1 Axes>"
      ]
     },
     "metadata": {},
     "output_type": "display_data"
    }
   ],
   "source": [
    "plt.clf() # 그래프 초기화\n",
    "\n",
    "acc = history_dict[\"accuracy\"]\n",
    "val_acc = history_dict[\"val_accuracy\"]\n",
    "\n",
    "plt.plot(epochs, acc, \"bo\", label = \"Training acc\")\n",
    "plt.plot(epochs, val_acc, \"r\", label = \"Validation acc\")\n",
    "\n",
    "plt.title(\"Training and validation accuracy\")\n",
    "plt.xlabel(\"Epochs\")\n",
    "plt.ylabel(\"Accuracy\")\n",
    "plt.legend()\n",
    "plt.show()"
   ]
  },
  {
   "cell_type": "code",
   "execution_count": 62,
   "id": "860d1ce4",
   "metadata": {},
   "outputs": [],
   "source": [
    "# 적절한 epoch 횟수는 3회로 판단되므로 다시 모델 학습하기\n",
    "model = keras.Sequential([\n",
    "    layers.Dense(16, activation = \"relu\"),\n",
    "    layers.Dense(16, activation = \"relu\"),\n",
    "    layers.Dense(16, activation = \"relu\"),\n",
    "    layers.Dense(1, activation = \"sigmoid\")\n",
    "])"
   ]
  },
  {
   "cell_type": "code",
   "execution_count": 63,
   "id": "6c2f8aea",
   "metadata": {},
   "outputs": [],
   "source": [
    "model.compile(optimizer = \"rmsprop\",\n",
    "              loss = \"binary_crossentropy\",\n",
    "              metrics = [\"accuracy\"])"
   ]
  },
  {
   "cell_type": "code",
   "execution_count": 64,
   "id": "c4d6af06",
   "metadata": {},
   "outputs": [
    {
     "name": "stdout",
     "output_type": "stream",
     "text": [
      "Epoch 1/3\n",
      "49/49 [==============================] - 1s 10ms/step - loss: 0.5205 - accuracy: 0.7852\n",
      "Epoch 2/3\n",
      "49/49 [==============================] - 0s 9ms/step - loss: 0.2805 - accuracy: 0.9059\n",
      "Epoch 3/3\n",
      "49/49 [==============================] - 0s 9ms/step - loss: 0.2061 - accuracy: 0.9277\n"
     ]
    },
    {
     "data": {
      "text/plain": [
       "<keras.callbacks.History at 0x20e139c0188>"
      ]
     },
     "execution_count": 64,
     "metadata": {},
     "output_type": "execute_result"
    }
   ],
   "source": [
    "model.fit(x_train, y_train, epochs = 3, batch_size = 512)"
   ]
  },
  {
   "cell_type": "code",
   "execution_count": 65,
   "id": "fecf20b3",
   "metadata": {},
   "outputs": [
    {
     "name": "stdout",
     "output_type": "stream",
     "text": [
      "782/782 [==============================] - 1s 2ms/step - loss: 0.2820 - accuracy: 0.8876\n"
     ]
    },
    {
     "data": {
      "text/plain": [
       "[0.28202465176582336, 0.8876000046730042]"
      ]
     },
     "execution_count": 65,
     "metadata": {},
     "output_type": "execute_result"
    }
   ],
   "source": [
    "model.evaluate(x_test, y_test)"
   ]
  },
  {
   "cell_type": "markdown",
   "id": "226f9d30",
   "metadata": {},
   "source": [
    "### 유닛 개수 늘리기"
   ]
  },
  {
   "cell_type": "code",
   "execution_count": 75,
   "id": "f65cb3df",
   "metadata": {},
   "outputs": [],
   "source": [
    "model = keras.Sequential([\n",
    "    layers.Dense(64, activation = \"relu\"),\n",
    "    layers.Dense(64, activation = \"relu\"),\n",
    "    layers.Dense(1, activation = \"sigmoid\")\n",
    "])"
   ]
  },
  {
   "cell_type": "code",
   "execution_count": 76,
   "id": "4f3d4790",
   "metadata": {},
   "outputs": [],
   "source": [
    "model.compile(optimizer = \"rmsprop\",\n",
    "              loss = \"binary_crossentropy\",\n",
    "              metrics = [\"accuracy\"])"
   ]
  },
  {
   "cell_type": "code",
   "execution_count": 77,
   "id": "c9d239a3",
   "metadata": {},
   "outputs": [
    {
     "name": "stdout",
     "output_type": "stream",
     "text": [
      "Epoch 1/20\n",
      "30/30 [==============================] - 2s 34ms/step - loss: 0.4875 - accuracy: 0.7633 - val_loss: 0.3939 - val_accuracy: 0.8309\n",
      "Epoch 2/20\n",
      "30/30 [==============================] - 1s 22ms/step - loss: 0.2570 - accuracy: 0.9029 - val_loss: 0.2790 - val_accuracy: 0.8879\n",
      "Epoch 3/20\n",
      "30/30 [==============================] - 1s 22ms/step - loss: 0.1836 - accuracy: 0.9318 - val_loss: 0.2809 - val_accuracy: 0.8882\n",
      "Epoch 4/20\n",
      "30/30 [==============================] - 1s 22ms/step - loss: 0.1407 - accuracy: 0.9500 - val_loss: 0.3071 - val_accuracy: 0.8837\n",
      "Epoch 5/20\n",
      "30/30 [==============================] - 1s 22ms/step - loss: 0.0996 - accuracy: 0.9665 - val_loss: 0.3361 - val_accuracy: 0.8818\n",
      "Epoch 6/20\n",
      "30/30 [==============================] - 1s 23ms/step - loss: 0.0789 - accuracy: 0.9730 - val_loss: 0.3592 - val_accuracy: 0.8781\n",
      "Epoch 7/20\n",
      "30/30 [==============================] - 1s 23ms/step - loss: 0.0552 - accuracy: 0.9825 - val_loss: 0.4179 - val_accuracy: 0.8769\n",
      "Epoch 8/20\n",
      "30/30 [==============================] - 1s 22ms/step - loss: 0.0563 - accuracy: 0.9843 - val_loss: 0.4232 - val_accuracy: 0.8773\n",
      "Epoch 9/20\n",
      "30/30 [==============================] - 1s 23ms/step - loss: 0.0400 - accuracy: 0.9871 - val_loss: 0.4378 - val_accuracy: 0.8779\n",
      "Epoch 10/20\n",
      "30/30 [==============================] - 1s 24ms/step - loss: 0.0100 - accuracy: 0.9992 - val_loss: 0.5088 - val_accuracy: 0.8744\n",
      "Epoch 11/20\n",
      "30/30 [==============================] - 1s 24ms/step - loss: 0.0343 - accuracy: 0.9899 - val_loss: 0.5332 - val_accuracy: 0.8755\n",
      "Epoch 12/20\n",
      "30/30 [==============================] - 1s 24ms/step - loss: 0.0039 - accuracy: 0.9999 - val_loss: 0.6856 - val_accuracy: 0.8629\n",
      "Epoch 13/20\n",
      "30/30 [==============================] - 1s 24ms/step - loss: 0.0224 - accuracy: 0.9925 - val_loss: 0.6059 - val_accuracy: 0.8729\n",
      "Epoch 14/20\n",
      "30/30 [==============================] - 1s 24ms/step - loss: 0.0019 - accuracy: 1.0000 - val_loss: 0.6728 - val_accuracy: 0.8732\n",
      "Epoch 15/20\n",
      "30/30 [==============================] - 1s 24ms/step - loss: 0.0266 - accuracy: 0.9922 - val_loss: 0.7045 - val_accuracy: 0.8714\n",
      "Epoch 16/20\n",
      "30/30 [==============================] - 1s 25ms/step - loss: 7.3183e-04 - accuracy: 1.0000 - val_loss: 0.7438 - val_accuracy: 0.8727\n",
      "Epoch 17/20\n",
      "30/30 [==============================] - 1s 25ms/step - loss: 4.6436e-04 - accuracy: 1.0000 - val_loss: 0.7963 - val_accuracy: 0.8723\n",
      "Epoch 18/20\n",
      "30/30 [==============================] - 1s 25ms/step - loss: 2.9474e-04 - accuracy: 1.0000 - val_loss: 0.8784 - val_accuracy: 0.8680\n",
      "Epoch 19/20\n",
      "30/30 [==============================] - 1s 25ms/step - loss: 0.0470 - accuracy: 0.9921 - val_loss: 0.9238 - val_accuracy: 0.8708\n",
      "Epoch 20/20\n",
      "30/30 [==============================] - 1s 25ms/step - loss: 1.0420e-04 - accuracy: 1.0000 - val_loss: 0.9299 - val_accuracy: 0.8713\n"
     ]
    }
   ],
   "source": [
    "history = model.fit(partial_x_train, partial_y_train, epochs = 20, batch_size = 512, validation_data = (x_val, y_val))"
   ]
  },
  {
   "cell_type": "code",
   "execution_count": 78,
   "id": "8058bae7",
   "metadata": {},
   "outputs": [
    {
     "data": {
      "image/png": "[encoded data removed]",
      "text/plain": [
       "<Figure size 640x480 with 1 Axes>"
      ]
     },
     "metadata": {},
     "output_type": "display_data"
    }
   ],
   "source": [
    "import matplotlib.pyplot as plt\n",
    "\n",
    "history_dict = history.history\n",
    "loss_values = history_dict[\"loss\"]\n",
    "val_loss_values = history_dict[\"val_loss\"]\n",
    "epochs = range(1, len(loss_values) + 1)\n",
    "\n",
    "plt.plot(epochs, loss_values, \"bo\", label = \"Training loss\")\n",
    "plt.plot(epochs, val_loss_values, \"r\", label = \"Validation loss\")\n",
    "\n",
    "plt.title(\"Training and validation loss\")\n",
    "plt.xlabel(\"Epochs\")\n",
    "plt.ylabel(\"Loss\")\n",
    "plt.legend()\n",
    "plt.show()"
   ]
  },
  {
   "cell_type": "code",
   "execution_count": 79,
   "id": "6b9b70e6",
   "metadata": {},
   "outputs": [
    {
     "data": {
      "image/png": "[encoded data removed]",
      "text/plain": [
       "<Figure size 640x480 with 1 Axes>"
      ]
     },
     "metadata": {},
     "output_type": "display_data"
    }
   ],
   "source": [
    "plt.clf() # 그래프 초기화\n",
    "\n",
    "acc = history_dict[\"accuracy\"]\n",
    "val_acc = history_dict[\"val_accuracy\"]\n",
    "\n",
    "plt.plot(epochs, acc, \"bo\", label = \"Training acc\")\n",
    "plt.plot(epochs, val_acc, \"r\", label = \"Validation acc\")\n",
    "\n",
    "plt.title(\"Training and validation accuracy\")\n",
    "plt.xlabel(\"Epochs\")\n",
    "plt.ylabel(\"Accuracy\")\n",
    "plt.legend()\n",
    "plt.show()"
   ]
  },
  {
   "cell_type": "code",
   "execution_count": 80,
   "id": "b65668e7",
   "metadata": {},
   "outputs": [],
   "source": [
    "model = keras.Sequential([\n",
    "    layers.Dense(64, activation = \"relu\"),\n",
    "    layers.Dense(64, activation = \"relu\"),\n",
    "    layers.Dense(1, activation = \"sigmoid\")\n",
    "])"
   ]
  },
  {
   "cell_type": "code",
   "execution_count": 81,
   "id": "27c7c34d",
   "metadata": {},
   "outputs": [],
   "source": [
    "model.compile(optimizer = \"rmsprop\",\n",
    "              loss = \"binary_crossentropy\",\n",
    "              metrics = [\"accuracy\"])"
   ]
  },
  {
   "cell_type": "code",
   "execution_count": 82,
   "id": "7237b362",
   "metadata": {},
   "outputs": [
    {
     "name": "stdout",
     "output_type": "stream",
     "text": [
      "Epoch 1/2\n",
      "49/49 [==============================] - 2s 16ms/step - loss: 0.4293 - accuracy: 0.7994\n",
      "Epoch 2/2\n",
      "49/49 [==============================] - 1s 16ms/step - loss: 0.2391 - accuracy: 0.9089\n"
     ]
    },
    {
     "data": {
      "text/plain": [
       "<keras.callbacks.History at 0x20e132f8908>"
      ]
     },
     "execution_count": 82,
     "metadata": {},
     "output_type": "execute_result"
    }
   ],
   "source": [
    "model.fit(x_train, y_train, epochs = 2, batch_size = 512)"
   ]
  },
  {
   "cell_type": "code",
   "execution_count": 83,
   "id": "6394d2c6",
   "metadata": {},
   "outputs": [
    {
     "name": "stdout",
     "output_type": "stream",
     "text": [
      "782/782 [==============================] - 2s 3ms/step - loss: 0.2801 - accuracy: 0.8875\n"
     ]
    },
    {
     "data": {
      "text/plain": [
       "[0.28007370233535767, 0.8875200152397156]"
      ]
     },
     "execution_count": 83,
     "metadata": {},
     "output_type": "execute_result"
    }
   ],
   "source": [
    "model.evaluate(x_test, y_test)"
   ]
  },
  {
   "cell_type": "markdown",
   "id": "118ede12",
   "metadata": {},
   "source": [
    "# 4.2 뉴스 기사 분류: 다중 분류 문제(multiclass classification)"
   ]
  },
  {
   "cell_type": "markdown",
   "id": "fed3a374",
   "metadata": {},
   "source": [
    "## 4.2.1 로이터 데이터셋"
   ]
  },
  {
   "cell_type": "markdown",
   "id": "c8c62559",
   "metadata": {},
   "source": [
    "### 코드 4-11. 로이터 데이터셋 로드하기"
   ]
  },
  {
   "cell_type": "code",
   "execution_count": 84,
   "id": "655cfc97",
   "metadata": {},
   "outputs": [],
   "source": [
    "from tensorflow.keras.datasets import reuters"
   ]
  },
  {
   "cell_type": "code",
   "execution_count": 85,
   "id": "d2bbd2e6",
   "metadata": {},
   "outputs": [
    {
     "name": "stdout",
     "output_type": "stream",
     "text": [
      "Downloading data from https://storage.googleapis.com/tensorflow/tf-keras-datasets/reuters.npz\n",
      "2110848/2110848 [==============================] - 1s 0us/step\n"
     ]
    }
   ],
   "source": [
    "(train_data, train_labels), (test_data, test_labels) = reuters.load_data(num_words = 10000)"
   ]
  },
  {
   "cell_type": "code",
   "execution_count": 86,
   "id": "e91456bc",
   "metadata": {},
   "outputs": [
    {
     "data": {
      "text/plain": [
       "8982"
      ]
     },
     "execution_count": 86,
     "metadata": {},
     "output_type": "execute_result"
    }
   ],
   "source": [
    "len(train_data)"
   ]
  },
  {
   "cell_type": "code",
   "execution_count": 87,
   "id": "8ae08db1",
   "metadata": {},
   "outputs": [
    {
     "data": {
      "text/plain": [
       "2246"
      ]
     },
     "execution_count": 87,
     "metadata": {},
     "output_type": "execute_result"
    }
   ],
   "source": [
    "len(test_data)"
   ]
  },
  {
   "cell_type": "code",
   "execution_count": 88,
   "id": "7aea5ead",
   "metadata": {},
   "outputs": [
    {
     "data": {
      "text/plain": [
       "[1,\n",
       " 2,\n",
       " 2,\n",
       " 8,\n",
       " 43,\n",
       " 10,\n",
       " 447,\n",
       " 5,\n",
       " 25,\n",
       " 207,\n",
       " 270,\n",
       " 5,\n",
       " 3095,\n",
       " 111,\n",
       " 16,\n",
       " 369,\n",
       " 186,\n",
       " 90,\n",
       " 67,\n",
       " 7,\n",
       " 89,\n",
       " 5,\n",
       " 19,\n",
       " 102,\n",
       " 6,\n",
       " 19,\n",
       " 124,\n",
       " 15,\n",
       " 90,\n",
       " 67,\n",
       " 84,\n",
       " 22,\n",
       " 482,\n",
       " 26,\n",
       " 7,\n",
       " 48,\n",
       " 4,\n",
       " 49,\n",
       " 8,\n",
       " 864,\n",
       " 39,\n",
       " 209,\n",
       " 154,\n",
       " 6,\n",
       " 151,\n",
       " 6,\n",
       " 83,\n",
       " 11,\n",
       " 15,\n",
       " 22,\n",
       " 155,\n",
       " 11,\n",
       " 15,\n",
       " 7,\n",
       " 48,\n",
       " 9,\n",
       " 4579,\n",
       " 1005,\n",
       " 504,\n",
       " 6,\n",
       " 258,\n",
       " 6,\n",
       " 272,\n",
       " 11,\n",
       " 15,\n",
       " 22,\n",
       " 134,\n",
       " 44,\n",
       " 11,\n",
       " 15,\n",
       " 16,\n",
       " 8,\n",
       " 197,\n",
       " 1245,\n",
       " 90,\n",
       " 67,\n",
       " 52,\n",
       " 29,\n",
       " 209,\n",
       " 30,\n",
       " 32,\n",
       " 132,\n",
       " 6,\n",
       " 109,\n",
       " 15,\n",
       " 17,\n",
       " 12]"
      ]
     },
     "execution_count": 88,
     "metadata": {},
     "output_type": "execute_result"
    }
   ],
   "source": [
    "train_data[0]"
   ]
  },
  {
   "cell_type": "markdown",
   "id": "e78a70d9",
   "metadata": {},
   "source": [
    "### 코드 4-12. 로이터 데이터셋을 텍스트로 디코딩하기"
   ]
  },
  {
   "cell_type": "code",
   "execution_count": 89,
   "id": "31ed0ea9",
   "metadata": {},
   "outputs": [
    {
     "name": "stdout",
     "output_type": "stream",
     "text": [
      "Downloading data from https://storage.googleapis.com/tensorflow/tf-keras-datasets/reuters_word_index.json\n",
      "550378/550378 [==============================] - 0s 0us/step\n"
     ]
    }
   ],
   "source": [
    "word_index = reuters.get_word_index()\n",
    "reverse_word_index = dict([(value, key) for (key, value) in word_index.items()])\n",
    "decoded_newswire = \" \".join([reverse_word_index.get(i - 3, \"?\") for i in train_data[0]])"
   ]
  },
  {
   "cell_type": "code",
   "execution_count": 90,
   "id": "d59004bc",
   "metadata": {},
   "outputs": [
    {
     "data": {
      "text/plain": [
       "'? ? ? said as a result of its december acquisition of space co it expects earnings per share in 1987 of 1 15 to 1 30 dlrs per share up from 70 cts in 1986 the company said pretax net should rise to nine to 10 mln dlrs from six mln dlrs in 1986 and rental operation revenues to 19 to 22 mln dlrs from 12 5 mln dlrs it said cash flow per share this year should be 2 50 to three dlrs reuter 3'"
      ]
     },
     "execution_count": 90,
     "metadata": {},
     "output_type": "execute_result"
    }
   ],
   "source": [
    "decoded_newswire"
   ]
  },
  {
   "cell_type": "code",
   "execution_count": 91,
   "id": "c5f2209b",
   "metadata": {},
   "outputs": [
    {
     "data": {
      "text/plain": [
       "3"
      ]
     },
     "execution_count": 91,
     "metadata": {},
     "output_type": "execute_result"
    }
   ],
   "source": [
    "train_labels[0]"
   ]
  },
  {
   "cell_type": "markdown",
   "id": "2613ed60",
   "metadata": {},
   "source": [
    "## 4.2.2 데이터 준비"
   ]
  },
  {
   "cell_type": "markdown",
   "id": "773d4380",
   "metadata": {},
   "source": [
    "### 코드 4-13. 데이터 인코딩하기"
   ]
  },
  {
   "cell_type": "code",
   "execution_count": 130,
   "id": "1101ff7c",
   "metadata": {},
   "outputs": [],
   "source": [
    "x_train = vectorize_sequences(train_data)\n",
    "x_test = vectorize_sequences(test_data)"
   ]
  },
  {
   "cell_type": "markdown",
   "id": "6614fc88",
   "metadata": {},
   "source": [
    "### 코드 4-14. 레이블 원-핫 인코딩하기"
   ]
  },
  {
   "cell_type": "code",
   "execution_count": 131,
   "id": "a80b493a",
   "metadata": {},
   "outputs": [],
   "source": [
    "def to_one_hot(labels, dimension = 46):\n",
    "    results = np.zeros((len(labels), dimension))\n",
    "    for i, label in enumerate(labels):\n",
    "        results[i, label] = 1.\n",
    "    return results\n",
    "\n",
    "y_train = to_one_hot(train_labels) # 훈련 레이블 벡터 변환\n",
    "y_test = to_one_hot(test_labels) # 테스트 레이블 벡터 변환"
   ]
  },
  {
   "cell_type": "code",
   "execution_count": 96,
   "id": "5dc60e65",
   "metadata": {},
   "outputs": [],
   "source": [
    "# 위 코드와 같은 동작을 수행하는 코드\n",
    "from keras.utils.np_utils import to_categorical\n",
    "\n",
    "y_train = to_categorical(train_labels)\n",
    "y_test = to_categorical(test_labels)"
   ]
  },
  {
   "cell_type": "markdown",
   "id": "365a397c",
   "metadata": {},
   "source": [
    "## 4.2.3 모델 구성"
   ]
  },
  {
   "cell_type": "markdown",
   "id": "d5f26908",
   "metadata": {},
   "source": [
    "### 코드 4-15. 모델 정의하기"
   ]
  },
  {
   "cell_type": "code",
   "execution_count": 97,
   "id": "0d2b16e1",
   "metadata": {},
   "outputs": [],
   "source": [
    "model = keras.Sequential([\n",
    "    layers.Dense(64, activation = \"relu\"),\n",
    "    layers.Dense(64, activation = \"relu\"),\n",
    "    layers.Dense(46, activation = \"softmax\")\n",
    "])"
   ]
  },
  {
   "cell_type": "markdown",
   "id": "3f352195",
   "metadata": {},
   "source": [
    "### 코드 4-16. 모델 컴파일하기"
   ]
  },
  {
   "cell_type": "code",
   "execution_count": 98,
   "id": "dad92ea3",
   "metadata": {},
   "outputs": [],
   "source": [
    "model.compile(optimizer = \"rmsprop\",\n",
    "              loss = \"categorical_crossentropy\",\n",
    "              metrics = [\"accuracy\"])"
   ]
  },
  {
   "cell_type": "markdown",
   "id": "842beb77",
   "metadata": {},
   "source": [
    "## 4.2.4 훈련 검증"
   ]
  },
  {
   "cell_type": "markdown",
   "id": "f03de776",
   "metadata": {},
   "source": [
    "### 코드 4-17. 검증 세트 준비하기"
   ]
  },
  {
   "cell_type": "code",
   "execution_count": 99,
   "id": "acf5604e",
   "metadata": {},
   "outputs": [],
   "source": [
    "x_val = x_train[:1000]\n",
    "partial_x_train = x_train[1000:]\n",
    "y_val = y_train[:1000]\n",
    "partial_y_train = y_train[1000:]"
   ]
  },
  {
   "cell_type": "markdown",
   "id": "508a6146",
   "metadata": {},
   "source": [
    "### 코드 4-18. 모델 훈련하기"
   ]
  },
  {
   "cell_type": "code",
   "execution_count": 100,
   "id": "062fe46b",
   "metadata": {},
   "outputs": [
    {
     "name": "stdout",
     "output_type": "stream",
     "text": [
      "Epoch 1/20\n",
      "16/16 [==============================] - 2s 34ms/step - loss: 2.5341 - accuracy: 0.5172 - val_loss: 1.6925 - val_accuracy: 0.6430\n",
      "Epoch 2/20\n",
      "16/16 [==============================] - 0s 18ms/step - loss: 1.3921 - accuracy: 0.7134 - val_loss: 1.2903 - val_accuracy: 0.7170\n",
      "Epoch 3/20\n",
      "16/16 [==============================] - 0s 20ms/step - loss: 1.0394 - accuracy: 0.7747 - val_loss: 1.1337 - val_accuracy: 0.7540\n",
      "Epoch 4/20\n",
      "16/16 [==============================] - 0s 20ms/step - loss: 0.8169 - accuracy: 0.8249 - val_loss: 1.0369 - val_accuracy: 0.7690\n",
      "Epoch 5/20\n",
      "16/16 [==============================] - 0s 19ms/step - loss: 0.6449 - accuracy: 0.8662 - val_loss: 0.9685 - val_accuracy: 0.7880\n",
      "Epoch 6/20\n",
      "16/16 [==============================] - 0s 20ms/step - loss: 0.5111 - accuracy: 0.8976 - val_loss: 0.9248 - val_accuracy: 0.8080\n",
      "Epoch 7/20\n",
      "16/16 [==============================] - 0s 22ms/step - loss: 0.4134 - accuracy: 0.9139 - val_loss: 0.8923 - val_accuracy: 0.8140\n",
      "Epoch 8/20\n",
      "16/16 [==============================] - 0s 19ms/step - loss: 0.3328 - accuracy: 0.9303 - val_loss: 0.8749 - val_accuracy: 0.8230\n",
      "Epoch 9/20\n",
      "16/16 [==============================] - 0s 22ms/step - loss: 0.2743 - accuracy: 0.9402 - val_loss: 0.9190 - val_accuracy: 0.8000\n",
      "Epoch 10/20\n",
      "16/16 [==============================] - 0s 22ms/step - loss: 0.2294 - accuracy: 0.9478 - val_loss: 0.9572 - val_accuracy: 0.7970\n",
      "Epoch 11/20\n",
      "16/16 [==============================] - 0s 22ms/step - loss: 0.2019 - accuracy: 0.9505 - val_loss: 0.9075 - val_accuracy: 0.8120\n",
      "Epoch 12/20\n",
      "16/16 [==============================] - 0s 22ms/step - loss: 0.1755 - accuracy: 0.9529 - val_loss: 0.9766 - val_accuracy: 0.8020\n",
      "Epoch 13/20\n",
      "16/16 [==============================] - 0s 23ms/step - loss: 0.1567 - accuracy: 0.9539 - val_loss: 0.9685 - val_accuracy: 0.8080\n",
      "Epoch 14/20\n",
      "16/16 [==============================] - 0s 21ms/step - loss: 0.1470 - accuracy: 0.9549 - val_loss: 1.0273 - val_accuracy: 0.8020\n",
      "Epoch 15/20\n",
      "16/16 [==============================] - 0s 23ms/step - loss: 0.1361 - accuracy: 0.9574 - val_loss: 0.9968 - val_accuracy: 0.8020\n",
      "Epoch 16/20\n",
      "16/16 [==============================] - 0s 21ms/step - loss: 0.1272 - accuracy: 0.9575 - val_loss: 1.0288 - val_accuracy: 0.7970\n",
      "Epoch 17/20\n",
      "16/16 [==============================] - 0s 21ms/step - loss: 0.1230 - accuracy: 0.9569 - val_loss: 1.0191 - val_accuracy: 0.8060\n",
      "Epoch 18/20\n",
      "16/16 [==============================] - 0s 22ms/step - loss: 0.1187 - accuracy: 0.9567 - val_loss: 1.0507 - val_accuracy: 0.8100\n",
      "Epoch 19/20\n",
      "16/16 [==============================] - 0s 24ms/step - loss: 0.1113 - accuracy: 0.9582 - val_loss: 1.0512 - val_accuracy: 0.8040\n",
      "Epoch 20/20\n",
      "16/16 [==============================] - 0s 21ms/step - loss: 0.1123 - accuracy: 0.9588 - val_loss: 1.1263 - val_accuracy: 0.7970\n"
     ]
    }
   ],
   "source": [
    "history = model.fit(partial_x_train,\n",
    "                    partial_y_train,\n",
    "                    epochs = 20,\n",
    "                    batch_size = 512,\n",
    "                    validation_data = (x_val, y_val))"
   ]
  },
  {
   "cell_type": "markdown",
   "id": "c50f3c07",
   "metadata": {},
   "source": [
    "### 코드 4-19. 훈련과 검증 손실 그리기"
   ]
  },
  {
   "cell_type": "code",
   "execution_count": 101,
   "id": "99a3cef3",
   "metadata": {},
   "outputs": [
    {
     "data": {
      "image/png": "[encoded data removed]",
      "text/plain": [
       "<Figure size 640x480 with 1 Axes>"
      ]
     },
     "metadata": {},
     "output_type": "display_data"
    }
   ],
   "source": [
    "loss = history.history[\"loss\"]\n",
    "val_loss = history.history[\"val_loss\"]\n",
    "epochs = range(1, len(loss) + 1)\n",
    "\n",
    "plt.plot(epochs, loss, \"bo\", label = \"Training loss\")\n",
    "plt.plot(epochs, val_loss, \"r\", label = \"Validation loss\")\n",
    "\n",
    "plt.title(\"Training and validation loss\")\n",
    "plt.xlabel(\"Epochs\")\n",
    "plt.ylabel(\"Loss\")\n",
    "plt.legend()\n",
    "plt.show()"
   ]
  },
  {
   "cell_type": "markdown",
   "id": "7fc51cd6",
   "metadata": {},
   "source": [
    "### 코드 4-20. 훈련과 검증 정확도 그리기"
   ]
  },
  {
   "cell_type": "code",
   "execution_count": 102,
   "id": "33bf88be",
   "metadata": {},
   "outputs": [
    {
     "data": {
      "image/png": "[encoded data removed]",
      "text/plain": [
       "<Figure size 640x480 with 1 Axes>"
      ]
     },
     "metadata": {},
     "output_type": "display_data"
    }
   ],
   "source": [
    "plt.clf()\n",
    "acc = history.history[\"accuracy\"]\n",
    "val_acc = history.history[\"val_accuracy\"]\n",
    "\n",
    "plt.plot(epochs, acc, \"bo\", label = \"Training accuracy\")\n",
    "plt.plot(epochs, val_acc, \"r\", label = \"Validation accuracy\")\n",
    "\n",
    "plt.title(\"Training and validation accuracy\")\n",
    "plt.xlabel(\"Epochs\")\n",
    "plt.ylabel(\"Accuracy\")\n",
    "plt.legend()\n",
    "plt.show()"
   ]
  },
  {
   "cell_type": "markdown",
   "id": "bada1655",
   "metadata": {},
   "source": [
    "### 코드 4-21. 모델을 처음부터 다시 훈련하기"
   ]
  },
  {
   "cell_type": "code",
   "execution_count": 110,
   "id": "38d7020a",
   "metadata": {},
   "outputs": [],
   "source": [
    "model = keras.Sequential([\n",
    "    layers.Dense(64, activation = \"relu\"),\n",
    "    layers.Dense(64, activation = \"relu\"),\n",
    "    layers.Dense(46, activation = \"softmax\")\n",
    "])"
   ]
  },
  {
   "cell_type": "code",
   "execution_count": 111,
   "id": "cc4a4d1e",
   "metadata": {},
   "outputs": [],
   "source": [
    "model.compile(optimizer = \"rmsprop\",\n",
    "              loss = \"categorical_crossentropy\",\n",
    "              metrics = [\"accuracy\"])"
   ]
  },
  {
   "cell_type": "code",
   "execution_count": 112,
   "id": "8188ca37",
   "metadata": {},
   "outputs": [
    {
     "name": "stdout",
     "output_type": "stream",
     "text": [
      "Epoch 1/8\n",
      "18/18 [==============================] - 1s 17ms/step - loss: 2.5742 - accuracy: 0.5144\n",
      "Epoch 2/8\n",
      "18/18 [==============================] - 0s 18ms/step - loss: 1.3923 - accuracy: 0.6971\n",
      "Epoch 3/8\n",
      "18/18 [==============================] - 0s 17ms/step - loss: 1.0254 - accuracy: 0.7840\n",
      "Epoch 4/8\n",
      "18/18 [==============================] - 0s 17ms/step - loss: 0.8014 - accuracy: 0.8326\n",
      "Epoch 5/8\n",
      "18/18 [==============================] - 0s 17ms/step - loss: 0.6376 - accuracy: 0.8662\n",
      "Epoch 6/8\n",
      "18/18 [==============================] - 0s 16ms/step - loss: 0.5051 - accuracy: 0.8962\n",
      "Epoch 7/8\n",
      "18/18 [==============================] - 0s 17ms/step - loss: 0.4057 - accuracy: 0.9139\n",
      "Epoch 8/8\n",
      "18/18 [==============================] - 0s 18ms/step - loss: 0.3312 - accuracy: 0.9316\n"
     ]
    },
    {
     "data": {
      "text/plain": [
       "<keras.callbacks.History at 0x20e0b8a3548>"
      ]
     },
     "execution_count": 112,
     "metadata": {},
     "output_type": "execute_result"
    }
   ],
   "source": [
    "model.fit(x_train,\n",
    "          y_train,\n",
    "          epochs = 8,\n",
    "          batch_size = 512)"
   ]
  },
  {
   "cell_type": "code",
   "execution_count": 113,
   "id": "41ce0de1",
   "metadata": {},
   "outputs": [
    {
     "name": "stdout",
     "output_type": "stream",
     "text": [
      "71/71 [==============================] - 0s 3ms/step - loss: 0.9277 - accuracy: 0.8001\n"
     ]
    }
   ],
   "source": [
    "results = model.evaluate(x_test, y_test)"
   ]
  },
  {
   "cell_type": "code",
   "execution_count": 114,
   "id": "6d6e3a71",
   "metadata": {},
   "outputs": [
    {
     "data": {
      "text/plain": [
       "0.188780053428317"
      ]
     },
     "execution_count": 114,
     "metadata": {},
     "output_type": "execute_result"
    }
   ],
   "source": [
    "# 랜덤한 분류기 사용 시 정확도\n",
    "import copy\n",
    "test_labels_copy = copy.copy(test_labels)\n",
    "np.random.shuffle(test_labels_copy)\n",
    "hist_array = np.array(test_labels) == np.array(test_labels_copy)\n",
    "hist_array.mean()"
   ]
  },
  {
   "cell_type": "markdown",
   "id": "3dffd67e",
   "metadata": {},
   "source": [
    "## 4.2.5 새로운 데이터에 대해 예측하기"
   ]
  },
  {
   "cell_type": "code",
   "execution_count": 115,
   "id": "5319c245",
   "metadata": {},
   "outputs": [
    {
     "name": "stdout",
     "output_type": "stream",
     "text": [
      "71/71 [==============================] - 0s 3ms/step\n"
     ]
    }
   ],
   "source": [
    "predictions = model.predict(x_test)"
   ]
  },
  {
   "cell_type": "code",
   "execution_count": 116,
   "id": "8c4f5c93",
   "metadata": {},
   "outputs": [
    {
     "data": {
      "text/plain": [
       "(46,)"
      ]
     },
     "execution_count": 116,
     "metadata": {},
     "output_type": "execute_result"
    }
   ],
   "source": [
    "predictions[0].shape"
   ]
  },
  {
   "cell_type": "code",
   "execution_count": 117,
   "id": "ef4e263f",
   "metadata": {},
   "outputs": [
    {
     "data": {
      "text/plain": [
       "0.9999998"
      ]
     },
     "execution_count": 117,
     "metadata": {},
     "output_type": "execute_result"
    }
   ],
   "source": [
    "np.sum(predictions[0])"
   ]
  },
  {
   "cell_type": "code",
   "execution_count": 118,
   "id": "bff76e8c",
   "metadata": {},
   "outputs": [
    {
     "data": {
      "text/plain": [
       "3"
      ]
     },
     "execution_count": 118,
     "metadata": {},
     "output_type": "execute_result"
    }
   ],
   "source": [
    "np.argmax(predictions[0])"
   ]
  },
  {
   "cell_type": "markdown",
   "id": "b39a19fa",
   "metadata": {},
   "source": [
    "## 4.2.6 레이블과 손실을 다루는 방법"
   ]
  },
  {
   "cell_type": "code",
   "execution_count": 119,
   "id": "7df78859",
   "metadata": {},
   "outputs": [],
   "source": [
    "# label이 범주형 인코딩되지 않고 정수형이다.\n",
    "y_train = np.array(train_labels)\n",
    "y_test = np.array(test_labels)"
   ]
  },
  {
   "cell_type": "code",
   "execution_count": 120,
   "id": "c8cac29a",
   "metadata": {},
   "outputs": [],
   "source": [
    "model = keras.Sequential([\n",
    "    layers.Dense(64, activation = \"relu\"),\n",
    "    layers.Dense(64, activation = \"relu\"),\n",
    "    layers.Dense(46, activation = \"softmax\")\n",
    "])"
   ]
  },
  {
   "cell_type": "code",
   "execution_count": 121,
   "id": "77aaf662",
   "metadata": {},
   "outputs": [],
   "source": [
    "model.compile(optimizer = \"rmsprop\",\n",
    "              loss = \"sparse_categorical_crossentropy\",\n",
    "              metrics = [\"accuracy\"])"
   ]
  },
  {
   "cell_type": "code",
   "execution_count": 122,
   "id": "4b487d1f",
   "metadata": {},
   "outputs": [
    {
     "name": "stdout",
     "output_type": "stream",
     "text": [
      "Epoch 1/8\n",
      "18/18 [==============================] - 1s 20ms/step - loss: 2.5253 - accuracy: 0.5081\n",
      "Epoch 2/8\n",
      "18/18 [==============================] - 0s 18ms/step - loss: 1.3427 - accuracy: 0.7144\n",
      "Epoch 3/8\n",
      "18/18 [==============================] - 0s 17ms/step - loss: 0.9987 - accuracy: 0.7880\n",
      "Epoch 4/8\n",
      "18/18 [==============================] - 0s 18ms/step - loss: 0.7832 - accuracy: 0.8348\n",
      "Epoch 5/8\n",
      "18/18 [==============================] - 0s 17ms/step - loss: 0.6225 - accuracy: 0.8695\n",
      "Epoch 6/8\n",
      "18/18 [==============================] - 0s 17ms/step - loss: 0.4916 - accuracy: 0.8960\n",
      "Epoch 7/8\n",
      "18/18 [==============================] - 0s 19ms/step - loss: 0.3972 - accuracy: 0.9145\n",
      "Epoch 8/8\n",
      "18/18 [==============================] - 0s 19ms/step - loss: 0.3224 - accuracy: 0.9310\n"
     ]
    },
    {
     "data": {
      "text/plain": [
       "<keras.callbacks.History at 0x20e74842148>"
      ]
     },
     "execution_count": 122,
     "metadata": {},
     "output_type": "execute_result"
    }
   ],
   "source": [
    "model.fit(x_train, y_train, epochs = 8, batch_size = 512)"
   ]
  },
  {
   "cell_type": "code",
   "execution_count": 123,
   "id": "62feed3b",
   "metadata": {},
   "outputs": [
    {
     "name": "stdout",
     "output_type": "stream",
     "text": [
      "71/71 [==============================] - 0s 3ms/step - loss: 0.9258 - accuracy: 0.7983\n"
     ]
    },
    {
     "data": {
      "text/plain": [
       "[0.925823450088501, 0.7983080744743347]"
      ]
     },
     "execution_count": 123,
     "metadata": {},
     "output_type": "execute_result"
    }
   ],
   "source": [
    "model.evaluate(x_test, y_test)"
   ]
  },
  {
   "cell_type": "markdown",
   "id": "a746d227",
   "metadata": {},
   "source": [
    "## 4.2.7 충분히 큰 중간층을 두어야 하는 이유"
   ]
  },
  {
   "cell_type": "markdown",
   "id": "ede7998f",
   "metadata": {},
   "source": [
    "### 코드 4-22. 정보 병목이 있는 모델"
   ]
  },
  {
   "cell_type": "code",
   "execution_count": 132,
   "id": "5ba8dd15",
   "metadata": {},
   "outputs": [],
   "source": [
    "model = keras.Sequential([\n",
    "    layers.Dense(64, activation = \"relu\"),\n",
    "    layers.Dense(4, activation = \"relu\"),\n",
    "    layers.Dense(46, activation = \"softmax\")\n",
    "])"
   ]
  },
  {
   "cell_type": "code",
   "execution_count": 133,
   "id": "a5f5a00d",
   "metadata": {},
   "outputs": [],
   "source": [
    "model.compile(optimizer = \"rmsprop\",\n",
    "              loss = \"categorical_crossentropy\",\n",
    "              metrics = [\"accuracy\"])"
   ]
  },
  {
   "cell_type": "code",
   "execution_count": 134,
   "id": "1f358d10",
   "metadata": {},
   "outputs": [
    {
     "name": "stdout",
     "output_type": "stream",
     "text": [
      "Epoch 1/8\n",
      "63/63 [==============================] - 2s 14ms/step - loss: 2.5840 - accuracy: 0.3608 - val_loss: 1.8620 - val_accuracy: 0.5750\n",
      "Epoch 2/8\n",
      "63/63 [==============================] - 1s 9ms/step - loss: 1.5821 - accuracy: 0.6154 - val_loss: 1.4938 - val_accuracy: 0.6170\n",
      "Epoch 3/8\n",
      "63/63 [==============================] - 1s 10ms/step - loss: 1.2749 - accuracy: 0.6681 - val_loss: 1.3714 - val_accuracy: 0.6580\n",
      "Epoch 4/8\n",
      "63/63 [==============================] - 1s 10ms/step - loss: 1.1066 - accuracy: 0.7001 - val_loss: 1.3085 - val_accuracy: 0.6640\n",
      "Epoch 5/8\n",
      "63/63 [==============================] - 1s 9ms/step - loss: 0.9857 - accuracy: 0.7270 - val_loss: 1.2923 - val_accuracy: 0.6780\n",
      "Epoch 6/8\n",
      "63/63 [==============================] - 1s 10ms/step - loss: 0.8920 - accuracy: 0.7538 - val_loss: 1.2683 - val_accuracy: 0.6980\n",
      "Epoch 7/8\n",
      "63/63 [==============================] - 1s 10ms/step - loss: 0.8125 - accuracy: 0.7816 - val_loss: 1.2685 - val_accuracy: 0.7060\n",
      "Epoch 8/8\n",
      "63/63 [==============================] - 1s 10ms/step - loss: 0.7417 - accuracy: 0.8053 - val_loss: 1.3325 - val_accuracy: 0.6970\n"
     ]
    },
    {
     "data": {
      "text/plain": [
       "<keras.callbacks.History at 0x20e7c3b9788>"
      ]
     },
     "execution_count": 134,
     "metadata": {},
     "output_type": "execute_result"
    }
   ],
   "source": [
    "model.fit(partial_x_train, partial_y_train, epochs = 8, batch_size = 128, validation_data = (x_val, y_val))"
   ]
  },
  {
   "cell_type": "markdown",
   "id": "887b2eea",
   "metadata": {},
   "source": [
    "## 4.2.8 추가 실험"
   ]
  },
  {
   "cell_type": "markdown",
   "id": "90d8e042",
   "metadata": {},
   "source": [
    "### 더 큰 층을 사용하는 경우"
   ]
  },
  {
   "cell_type": "code",
   "execution_count": 135,
   "id": "34b122cd",
   "metadata": {},
   "outputs": [],
   "source": [
    "model = keras.Sequential([\n",
    "    layers.Dense(256, activation = \"relu\"),\n",
    "    layers.Dense(128, activation = \"relu\"),\n",
    "    layers.Dense(64, activation = \"relu\"),\n",
    "    layers.Dense(46, activation = \"softmax\")\n",
    "])"
   ]
  },
  {
   "cell_type": "code",
   "execution_count": 136,
   "id": "83b06c50",
   "metadata": {},
   "outputs": [],
   "source": [
    "model.compile(optimizer = \"rmsprop\",\n",
    "              loss = \"categorical_crossentropy\",\n",
    "              metrics = [\"accuracy\"])"
   ]
  },
  {
   "cell_type": "code",
   "execution_count": 137,
   "id": "d5ccd9c6",
   "metadata": {},
   "outputs": [
    {
     "name": "stdout",
     "output_type": "stream",
     "text": [
      "Epoch 1/20\n",
      "63/63 [==============================] - 2s 26ms/step - loss: 1.5992 - accuracy: 0.6522 - val_loss: 1.1627 - val_accuracy: 0.7390\n",
      "Epoch 2/20\n",
      "63/63 [==============================] - 1s 23ms/step - loss: 0.7435 - accuracy: 0.8388 - val_loss: 1.0039 - val_accuracy: 0.7900\n",
      "Epoch 3/20\n",
      "63/63 [==============================] - 1s 23ms/step - loss: 0.4267 - accuracy: 0.9085 - val_loss: 0.9070 - val_accuracy: 0.8150\n",
      "Epoch 4/20\n",
      "63/63 [==============================] - 1s 23ms/step - loss: 0.2821 - accuracy: 0.9362 - val_loss: 1.0272 - val_accuracy: 0.8070\n",
      "Epoch 5/20\n",
      "63/63 [==============================] - 1s 24ms/step - loss: 0.2174 - accuracy: 0.9475 - val_loss: 1.0904 - val_accuracy: 0.8000\n",
      "Epoch 6/20\n",
      "63/63 [==============================] - 2s 24ms/step - loss: 0.1817 - accuracy: 0.9530 - val_loss: 1.0654 - val_accuracy: 0.7980\n",
      "Epoch 7/20\n",
      "63/63 [==============================] - 2s 25ms/step - loss: 0.1619 - accuracy: 0.9533 - val_loss: 1.0603 - val_accuracy: 0.7960\n",
      "Epoch 8/20\n",
      "63/63 [==============================] - 2s 25ms/step - loss: 0.1436 - accuracy: 0.9538 - val_loss: 1.2304 - val_accuracy: 0.7840\n",
      "Epoch 9/20\n",
      "63/63 [==============================] - 2s 25ms/step - loss: 0.1274 - accuracy: 0.9582 - val_loss: 1.3115 - val_accuracy: 0.7810\n",
      "Epoch 10/20\n",
      "63/63 [==============================] - 2s 25ms/step - loss: 0.1215 - accuracy: 0.9554 - val_loss: 1.3317 - val_accuracy: 0.7980\n",
      "Epoch 11/20\n",
      "63/63 [==============================] - 2s 26ms/step - loss: 0.1141 - accuracy: 0.9564 - val_loss: 1.4267 - val_accuracy: 0.7910\n",
      "Epoch 12/20\n",
      "63/63 [==============================] - 2s 25ms/step - loss: 0.1077 - accuracy: 0.9540 - val_loss: 1.5258 - val_accuracy: 0.7940\n",
      "Epoch 13/20\n",
      "63/63 [==============================] - 2s 26ms/step - loss: 0.1018 - accuracy: 0.9554 - val_loss: 1.5340 - val_accuracy: 0.7890\n",
      "Epoch 14/20\n",
      "63/63 [==============================] - 2s 25ms/step - loss: 0.0972 - accuracy: 0.9558 - val_loss: 1.6659 - val_accuracy: 0.7880\n",
      "Epoch 15/20\n",
      "63/63 [==============================] - 2s 26ms/step - loss: 0.0916 - accuracy: 0.9554 - val_loss: 1.6212 - val_accuracy: 0.7910\n",
      "Epoch 16/20\n",
      "63/63 [==============================] - 2s 27ms/step - loss: 0.0878 - accuracy: 0.9584 - val_loss: 1.8317 - val_accuracy: 0.7950\n",
      "Epoch 17/20\n",
      "63/63 [==============================] - 2s 26ms/step - loss: 0.0869 - accuracy: 0.9579 - val_loss: 1.8745 - val_accuracy: 0.7920\n",
      "Epoch 18/20\n",
      "63/63 [==============================] - 2s 26ms/step - loss: 0.0818 - accuracy: 0.9595 - val_loss: 1.9836 - val_accuracy: 0.7840\n",
      "Epoch 19/20\n",
      "63/63 [==============================] - 2s 26ms/step - loss: 0.0813 - accuracy: 0.9565 - val_loss: 1.9095 - val_accuracy: 0.7930\n",
      "Epoch 20/20\n",
      "63/63 [==============================] - 2s 25ms/step - loss: 0.0783 - accuracy: 0.9567 - val_loss: 2.0478 - val_accuracy: 0.7830\n"
     ]
    },
    {
     "data": {
      "text/plain": [
       "<keras.callbacks.History at 0x20e130cb308>"
      ]
     },
     "execution_count": 137,
     "metadata": {},
     "output_type": "execute_result"
    }
   ],
   "source": [
    "model.fit(partial_x_train, partial_y_train, epochs = 20, batch_size = 128, validation_data = (x_val, y_val))"
   ]
  },
  {
   "cell_type": "markdown",
   "id": "1b35e601",
   "metadata": {},
   "source": [
    "### 더 다양한 조건 시도해 보기"
   ]
  },
  {
   "cell_type": "code",
   "execution_count": 138,
   "id": "d5712dc0",
   "metadata": {},
   "outputs": [],
   "source": [
    "model = keras.Sequential([\n",
    "    layers.Dense(256, activation = \"relu\"),\n",
    "    layers.Dense(256, activation = \"relu\"),\n",
    "    layers.Dense(256, activation = \"relu\"),\n",
    "    layers.Dense(46, activation = \"softmax\")\n",
    "])"
   ]
  },
  {
   "cell_type": "code",
   "execution_count": 139,
   "id": "b6154de7",
   "metadata": {},
   "outputs": [],
   "source": [
    "model.compile(optimizer = \"rmsprop\",\n",
    "              loss = \"categorical_crossentropy\",\n",
    "              metrics = [\"accuracy\"])"
   ]
  },
  {
   "cell_type": "code",
   "execution_count": 140,
   "id": "463785cd",
   "metadata": {},
   "outputs": [
    {
     "name": "stdout",
     "output_type": "stream",
     "text": [
      "Epoch 1/20\n",
      "63/63 [==============================] - 3s 29ms/step - loss: 1.4902 - accuracy: 0.6574 - val_loss: 1.1132 - val_accuracy: 0.7330\n",
      "Epoch 2/20\n",
      "63/63 [==============================] - 2s 26ms/step - loss: 0.7114 - accuracy: 0.8371 - val_loss: 1.0348 - val_accuracy: 0.7550\n",
      "Epoch 3/20\n",
      "63/63 [==============================] - 2s 27ms/step - loss: 0.3889 - accuracy: 0.9122 - val_loss: 0.8984 - val_accuracy: 0.8060\n",
      "Epoch 4/20\n",
      "63/63 [==============================] - 2s 28ms/step - loss: 0.2509 - accuracy: 0.9411 - val_loss: 0.9551 - val_accuracy: 0.8110\n",
      "Epoch 5/20\n",
      "63/63 [==============================] - 2s 29ms/step - loss: 0.1922 - accuracy: 0.9500 - val_loss: 1.0285 - val_accuracy: 0.7940\n",
      "Epoch 6/20\n",
      "63/63 [==============================] - 2s 28ms/step - loss: 0.1561 - accuracy: 0.9531 - val_loss: 1.1464 - val_accuracy: 0.8110\n",
      "Epoch 7/20\n",
      "63/63 [==============================] - 2s 27ms/step - loss: 0.1368 - accuracy: 0.9539 - val_loss: 1.1990 - val_accuracy: 0.8100\n",
      "Epoch 8/20\n",
      "63/63 [==============================] - 2s 28ms/step - loss: 0.1223 - accuracy: 0.9560 - val_loss: 1.2654 - val_accuracy: 0.8090\n",
      "Epoch 9/20\n",
      "63/63 [==============================] - 2s 29ms/step - loss: 0.1184 - accuracy: 0.9551 - val_loss: 1.2731 - val_accuracy: 0.8100\n",
      "Epoch 10/20\n",
      "63/63 [==============================] - 2s 25ms/step - loss: 0.0977 - accuracy: 0.9577 - val_loss: 1.6352 - val_accuracy: 0.7950\n",
      "Epoch 11/20\n",
      "63/63 [==============================] - 2s 26ms/step - loss: 0.0955 - accuracy: 0.9575 - val_loss: 1.4686 - val_accuracy: 0.8120\n",
      "Epoch 12/20\n",
      "63/63 [==============================] - 2s 26ms/step - loss: 0.0905 - accuracy: 0.9575 - val_loss: 1.5567 - val_accuracy: 0.8050\n",
      "Epoch 13/20\n",
      "63/63 [==============================] - 2s 26ms/step - loss: 0.0891 - accuracy: 0.9589 - val_loss: 1.7022 - val_accuracy: 0.7990\n",
      "Epoch 14/20\n",
      "63/63 [==============================] - 2s 26ms/step - loss: 0.0792 - accuracy: 0.9587 - val_loss: 1.7390 - val_accuracy: 0.8130\n",
      "Epoch 15/20\n",
      "63/63 [==============================] - 2s 27ms/step - loss: 0.0805 - accuracy: 0.9605 - val_loss: 2.2243 - val_accuracy: 0.8020\n",
      "Epoch 16/20\n",
      "63/63 [==============================] - 2s 26ms/step - loss: 0.0791 - accuracy: 0.9572 - val_loss: 2.0479 - val_accuracy: 0.8070\n",
      "Epoch 17/20\n",
      "63/63 [==============================] - 2s 27ms/step - loss: 0.0749 - accuracy: 0.9574 - val_loss: 2.0896 - val_accuracy: 0.8060\n",
      "Epoch 18/20\n",
      "63/63 [==============================] - 2s 26ms/step - loss: 0.0725 - accuracy: 0.9597 - val_loss: 2.3236 - val_accuracy: 0.7850\n",
      "Epoch 19/20\n",
      "63/63 [==============================] - 2s 27ms/step - loss: 0.0710 - accuracy: 0.9604 - val_loss: 3.0182 - val_accuracy: 0.7930\n",
      "Epoch 20/20\n",
      "63/63 [==============================] - 2s 27ms/step - loss: 0.0841 - accuracy: 0.9588 - val_loss: 2.5735 - val_accuracy: 0.7960\n"
     ]
    },
    {
     "data": {
      "text/plain": [
       "<keras.callbacks.History at 0x20e164ce188>"
      ]
     },
     "execution_count": 140,
     "metadata": {},
     "output_type": "execute_result"
    }
   ],
   "source": [
    "model.fit(partial_x_train, partial_y_train, epochs = 20, batch_size = 128, validation_data = (x_val, y_val))"
   ]
  },
  {
   "cell_type": "code",
   "execution_count": null,
   "id": "2e747609",
   "metadata": {},
   "outputs": [],
   "source": []
  },
  {
   "cell_type": "code",
   "execution_count": 141,
   "id": "2b99bf23",
   "metadata": {},
   "outputs": [],
   "source": [
    "model = keras.Sequential([\n",
    "    layers.Dense(1024, activation = \"relu\"),\n",
    "    layers.Dense(1024, activation = \"relu\"),\n",
    "    layers.Dense(1024, activation = \"relu\"),\n",
    "    layers.Dense(46, activation = \"softmax\")\n",
    "])"
   ]
  },
  {
   "cell_type": "code",
   "execution_count": 142,
   "id": "11f2bc5d",
   "metadata": {},
   "outputs": [],
   "source": [
    "model.compile(optimizer = \"rmsprop\",\n",
    "              loss = \"categorical_crossentropy\",\n",
    "              metrics = [\"accuracy\"])"
   ]
  },
  {
   "cell_type": "code",
   "execution_count": 143,
   "id": "7acea1a1",
   "metadata": {},
   "outputs": [
    {
     "name": "stdout",
     "output_type": "stream",
     "text": [
      "Epoch 1/20\n",
      "63/63 [==============================] - 7s 103ms/step - loss: 1.5301 - accuracy: 0.6470 - val_loss: 1.1095 - val_accuracy: 0.7360\n",
      "Epoch 2/20\n",
      "63/63 [==============================] - 7s 104ms/step - loss: 0.7259 - accuracy: 0.8300 - val_loss: 1.1478 - val_accuracy: 0.7530\n",
      "Epoch 3/20\n",
      "63/63 [==============================] - 7s 103ms/step - loss: 0.3964 - accuracy: 0.9040 - val_loss: 1.0664 - val_accuracy: 0.7980\n",
      "Epoch 4/20\n",
      "63/63 [==============================] - 6s 99ms/step - loss: 0.2441 - accuracy: 0.9379 - val_loss: 1.2000 - val_accuracy: 0.7990\n",
      "Epoch 5/20\n",
      "63/63 [==============================] - 6s 100ms/step - loss: 0.2025 - accuracy: 0.9445 - val_loss: 1.3975 - val_accuracy: 0.8040\n",
      "Epoch 6/20\n",
      "63/63 [==============================] - 6s 99ms/step - loss: 0.1480 - accuracy: 0.9505 - val_loss: 1.7119 - val_accuracy: 0.8160\n",
      "Epoch 7/20\n",
      "63/63 [==============================] - 6s 98ms/step - loss: 0.1243 - accuracy: 0.9553 - val_loss: 1.8039 - val_accuracy: 0.8120\n",
      "Epoch 8/20\n",
      "63/63 [==============================] - 6s 99ms/step - loss: 0.1070 - accuracy: 0.9583 - val_loss: 2.1180 - val_accuracy: 0.7630\n",
      "Epoch 9/20\n",
      "63/63 [==============================] - 6s 100ms/step - loss: 0.1042 - accuracy: 0.9559 - val_loss: 2.1328 - val_accuracy: 0.8080\n",
      "Epoch 10/20\n",
      "63/63 [==============================] - 6s 101ms/step - loss: 0.0934 - accuracy: 0.9577 - val_loss: 2.3396 - val_accuracy: 0.7720\n",
      "Epoch 11/20\n",
      "63/63 [==============================] - 6s 101ms/step - loss: 0.1042 - accuracy: 0.9592 - val_loss: 2.1569 - val_accuracy: 0.8040\n",
      "Epoch 12/20\n",
      "63/63 [==============================] - 7s 104ms/step - loss: 0.0960 - accuracy: 0.9553 - val_loss: 2.5846 - val_accuracy: 0.8190\n",
      "Epoch 13/20\n",
      "63/63 [==============================] - 6s 102ms/step - loss: 0.0936 - accuracy: 0.9567 - val_loss: 2.2982 - val_accuracy: 0.8060\n",
      "Epoch 14/20\n",
      "63/63 [==============================] - 6s 103ms/step - loss: 0.0738 - accuracy: 0.9607 - val_loss: 3.8922 - val_accuracy: 0.7970\n",
      "Epoch 15/20\n",
      "63/63 [==============================] - 6s 103ms/step - loss: 0.0750 - accuracy: 0.9582 - val_loss: 3.4452 - val_accuracy: 0.8050\n",
      "Epoch 16/20\n",
      "63/63 [==============================] - 6s 101ms/step - loss: 0.0800 - accuracy: 0.9612 - val_loss: 4.0683 - val_accuracy: 0.8080\n",
      "Epoch 17/20\n",
      "63/63 [==============================] - 6s 100ms/step - loss: 0.0722 - accuracy: 0.9580 - val_loss: 3.8158 - val_accuracy: 0.8020\n",
      "Epoch 18/20\n",
      "63/63 [==============================] - 6s 103ms/step - loss: 0.0987 - accuracy: 0.9558 - val_loss: 3.3224 - val_accuracy: 0.8060\n",
      "Epoch 19/20\n",
      "63/63 [==============================] - 6s 101ms/step - loss: 0.0660 - accuracy: 0.9592 - val_loss: 4.6151 - val_accuracy: 0.8050\n",
      "Epoch 20/20\n",
      "63/63 [==============================] - 6s 100ms/step - loss: 0.0774 - accuracy: 0.9592 - val_loss: 4.3207 - val_accuracy: 0.7960\n"
     ]
    },
    {
     "data": {
      "text/plain": [
       "<keras.callbacks.History at 0x20e058b7448>"
      ]
     },
     "execution_count": 143,
     "metadata": {},
     "output_type": "execute_result"
    }
   ],
   "source": [
    "model.fit(partial_x_train, partial_y_train, epochs = 20, batch_size = 128, validation_data = (x_val, y_val))"
   ]
  },
  {
   "cell_type": "markdown",
   "id": "a323ac4d",
   "metadata": {},
   "source": [
    "# 4.3 주택 가격 예측: 회귀 문제(regression)"
   ]
  },
  {
   "cell_type": "markdown",
   "id": "bc7449db",
   "metadata": {},
   "source": [
    "## 4.3.1 보스턴 주택 가격 데이터셋"
   ]
  },
  {
   "cell_type": "markdown",
   "id": "f76d72e7",
   "metadata": {},
   "source": [
    "### 코드 4-23. 보스턴 주택 데이터셋 로드하기"
   ]
  },
  {
   "cell_type": "code",
   "execution_count": 144,
   "id": "1ee2597b",
   "metadata": {},
   "outputs": [
    {
     "name": "stdout",
     "output_type": "stream",
     "text": [
      "Downloading data from https://storage.googleapis.com/tensorflow/tf-keras-datasets/boston_housing.npz\n",
      "57026/57026 [==============================] - 0s 1us/step\n"
     ]
    }
   ],
   "source": [
    "from tensorflow.keras.datasets import boston_housing\n",
    "\n",
    "(train_data, train_targets), (test_data, test_targets) = (boston_housing.load_data())"
   ]
  },
  {
   "cell_type": "code",
   "execution_count": 145,
   "id": "118ceae3",
   "metadata": {},
   "outputs": [
    {
     "data": {
      "text/plain": [
       "(404, 13)"
      ]
     },
     "execution_count": 145,
     "metadata": {},
     "output_type": "execute_result"
    }
   ],
   "source": [
    "train_data.shape"
   ]
  },
  {
   "cell_type": "code",
   "execution_count": 146,
   "id": "3bdc8aca",
   "metadata": {},
   "outputs": [
    {
     "data": {
      "text/plain": [
       "(102, 13)"
      ]
     },
     "execution_count": 146,
     "metadata": {},
     "output_type": "execute_result"
    }
   ],
   "source": [
    "test_data.shape"
   ]
  },
  {
   "cell_type": "code",
   "execution_count": 147,
   "id": "208b51c5",
   "metadata": {},
   "outputs": [
    {
     "data": {
      "text/plain": [
       "array([15.2, 42.3, 50. , 21.1, 17.7, 18.5, 11.3, 15.6, 15.6, 14.4, 12.1,\n",
       "       17.9, 23.1, 19.9, 15.7,  8.8, 50. , 22.5, 24.1, 27.5, 10.9, 30.8,\n",
       "       32.9, 24. , 18.5, 13.3, 22.9, 34.7, 16.6, 17.5, 22.3, 16.1, 14.9,\n",
       "       23.1, 34.9, 25. , 13.9, 13.1, 20.4, 20. , 15.2, 24.7, 22.2, 16.7,\n",
       "       12.7, 15.6, 18.4, 21. , 30.1, 15.1, 18.7,  9.6, 31.5, 24.8, 19.1,\n",
       "       22. , 14.5, 11. , 32. , 29.4, 20.3, 24.4, 14.6, 19.5, 14.1, 14.3,\n",
       "       15.6, 10.5,  6.3, 19.3, 19.3, 13.4, 36.4, 17.8, 13.5, 16.5,  8.3,\n",
       "       14.3, 16. , 13.4, 28.6, 43.5, 20.2, 22. , 23. , 20.7, 12.5, 48.5,\n",
       "       14.6, 13.4, 23.7, 50. , 21.7, 39.8, 38.7, 22.2, 34.9, 22.5, 31.1,\n",
       "       28.7, 46. , 41.7, 21. , 26.6, 15. , 24.4, 13.3, 21.2, 11.7, 21.7,\n",
       "       19.4, 50. , 22.8, 19.7, 24.7, 36.2, 14.2, 18.9, 18.3, 20.6, 24.6,\n",
       "       18.2,  8.7, 44. , 10.4, 13.2, 21.2, 37. , 30.7, 22.9, 20. , 19.3,\n",
       "       31.7, 32. , 23.1, 18.8, 10.9, 50. , 19.6,  5. , 14.4, 19.8, 13.8,\n",
       "       19.6, 23.9, 24.5, 25. , 19.9, 17.2, 24.6, 13.5, 26.6, 21.4, 11.9,\n",
       "       22.6, 19.6,  8.5, 23.7, 23.1, 22.4, 20.5, 23.6, 18.4, 35.2, 23.1,\n",
       "       27.9, 20.6, 23.7, 28. , 13.6, 27.1, 23.6, 20.6, 18.2, 21.7, 17.1,\n",
       "        8.4, 25.3, 13.8, 22.2, 18.4, 20.7, 31.6, 30.5, 20.3,  8.8, 19.2,\n",
       "       19.4, 23.1, 23. , 14.8, 48.8, 22.6, 33.4, 21.1, 13.6, 32.2, 13.1,\n",
       "       23.4, 18.9, 23.9, 11.8, 23.3, 22.8, 19.6, 16.7, 13.4, 22.2, 20.4,\n",
       "       21.8, 26.4, 14.9, 24.1, 23.8, 12.3, 29.1, 21. , 19.5, 23.3, 23.8,\n",
       "       17.8, 11.5, 21.7, 19.9, 25. , 33.4, 28.5, 21.4, 24.3, 27.5, 33.1,\n",
       "       16.2, 23.3, 48.3, 22.9, 22.8, 13.1, 12.7, 22.6, 15. , 15.3, 10.5,\n",
       "       24. , 18.5, 21.7, 19.5, 33.2, 23.2,  5. , 19.1, 12.7, 22.3, 10.2,\n",
       "       13.9, 16.3, 17. , 20.1, 29.9, 17.2, 37.3, 45.4, 17.8, 23.2, 29. ,\n",
       "       22. , 18. , 17.4, 34.6, 20.1, 25. , 15.6, 24.8, 28.2, 21.2, 21.4,\n",
       "       23.8, 31. , 26.2, 17.4, 37.9, 17.5, 20. ,  8.3, 23.9,  8.4, 13.8,\n",
       "        7.2, 11.7, 17.1, 21.6, 50. , 16.1, 20.4, 20.6, 21.4, 20.6, 36.5,\n",
       "        8.5, 24.8, 10.8, 21.9, 17.3, 18.9, 36.2, 14.9, 18.2, 33.3, 21.8,\n",
       "       19.7, 31.6, 24.8, 19.4, 22.8,  7.5, 44.8, 16.8, 18.7, 50. , 50. ,\n",
       "       19.5, 20.1, 50. , 17.2, 20.8, 19.3, 41.3, 20.4, 20.5, 13.8, 16.5,\n",
       "       23.9, 20.6, 31.5, 23.3, 16.8, 14. , 33.8, 36.1, 12.8, 18.3, 18.7,\n",
       "       19.1, 29. , 30.1, 50. , 50. , 22. , 11.9, 37.6, 50. , 22.7, 20.8,\n",
       "       23.5, 27.9, 50. , 19.3, 23.9, 22.6, 15.2, 21.7, 19.2, 43.8, 20.3,\n",
       "       33.2, 19.9, 22.5, 32.7, 22. , 17.1, 19. , 15. , 16.1, 25.1, 23.7,\n",
       "       28.7, 37.2, 22.6, 16.4, 25. , 29.8, 22.1, 17.4, 18.1, 30.3, 17.5,\n",
       "       24.7, 12.6, 26.5, 28.7, 13.3, 10.4, 24.4, 23. , 20. , 17.8,  7. ,\n",
       "       11.8, 24.4, 13.8, 19.4, 25.2, 19.4, 19.4, 29.1])"
      ]
     },
     "execution_count": 147,
     "metadata": {},
     "output_type": "execute_result"
    }
   ],
   "source": [
    "train_targets"
   ]
  },
  {
   "cell_type": "markdown",
   "id": "02fc64d0",
   "metadata": {},
   "source": [
    "## 4.3.2 데이터 준비"
   ]
  },
  {
   "cell_type": "markdown",
   "id": "1227830f",
   "metadata": {},
   "source": [
    "### 코드 4-24. 데이터 정규화하기"
   ]
  },
  {
   "cell_type": "code",
   "execution_count": 148,
   "id": "d317d83a",
   "metadata": {},
   "outputs": [],
   "source": [
    "mean = train_data.mean(axis = 0)\n",
    "train_data -= mean\n",
    "\n",
    "std = train_data.std(axis = 0)\n",
    "train_data /= std\n",
    "\n",
    "test_data -= mean\n",
    "test_data /= std"
   ]
  },
  {
   "cell_type": "markdown",
   "id": "bfc623ad",
   "metadata": {},
   "source": [
    "## 4.3.3 모델 구성"
   ]
  },
  {
   "cell_type": "markdown",
   "id": "2a97e4d5",
   "metadata": {},
   "source": [
    "### 코드 4-25. 모델 정의하기"
   ]
  },
  {
   "cell_type": "code",
   "execution_count": 149,
   "id": "36fc9287",
   "metadata": {},
   "outputs": [],
   "source": [
    "def build_model():\n",
    "    model = keras.Sequential([\n",
    "        layers.Dense(64, activation = \"relu\"),\n",
    "        layers.Dense(64, activation = \"relu\"),\n",
    "        layers.Dense(1)\n",
    "    ])\n",
    "    model.compile(optimizer = \"rmsprop\", loss = \"mse\", metrics = [\"mae\"])\n",
    "    return model"
   ]
  },
  {
   "cell_type": "markdown",
   "id": "24d93cd3",
   "metadata": {},
   "source": [
    "## 4.3.4 K-fold 교차 검증을 사용한 훈련 검증"
   ]
  },
  {
   "cell_type": "markdown",
   "id": "70b69a06",
   "metadata": {},
   "source": [
    "### 코드 4-26. K-fold 교차 검증하기"
   ]
  },
  {
   "cell_type": "code",
   "execution_count": 150,
   "id": "ee1cb8ff",
   "metadata": {},
   "outputs": [
    {
     "name": "stdout",
     "output_type": "stream",
     "text": [
      "#0th fold is being processed\n",
      "#1th fold is being processed\n",
      "#2th fold is being processed\n",
      "#3th fold is being processed\n"
     ]
    }
   ],
   "source": [
    "k = 4\n",
    "num_val_samples = len(train_data) // k\n",
    "num_epochs = 100\n",
    "all_scores = []\n",
    "for i in range(k):\n",
    "    print(f\"#{i}th fold is being processed\")\n",
    "    \n",
    "    val_data = train_data[i * num_val_samples : (i + 1) * num_val_samples] # k번째 검증 데이터 준비\n",
    "    val_targets = train_targets[i * num_val_samples : (i + 1) * num_val_samples] # k번째 타깃 데이터 준비\n",
    "    \n",
    "    partial_train_data = np.concatenate([train_data[: i * num_val_samples], train_data[(i + 1) * num_val_samples :]], axis = 0)\n",
    "    partial_train_targets = np.concatenate([train_targets[: i * num_val_samples], train_targets[(i + 1) * num_val_samples :]], axis = 0)\n",
    "    \n",
    "    model = build_model() # 케라스 모델 구성(컴파일 포함)\n",
    "    model.fit(partial_train_data, partial_train_targets, epochs = num_epochs, batch_size = 16, verbose = 0) # 모델 훈련(verbose)이 0이므로 훈련 과정이 출력되지 않는다.\n",
    "    \n",
    "    val_mse, val_mae = model.evaluate(val_data, val_targets, verbose = 0)\n",
    "    \n",
    "    all_scores.append(val_mae)"
   ]
  },
  {
   "cell_type": "code",
   "execution_count": 151,
   "id": "14dd6ff9",
   "metadata": {},
   "outputs": [
    {
     "data": {
      "text/plain": [
       "[1.9080930948257446, 2.5523300170898438, 2.64223313331604, 2.428863763809204]"
      ]
     },
     "execution_count": 151,
     "metadata": {},
     "output_type": "execute_result"
    }
   ],
   "source": [
    "all_scores"
   ]
  },
  {
   "cell_type": "code",
   "execution_count": 152,
   "id": "218ee042",
   "metadata": {},
   "outputs": [
    {
     "data": {
      "text/plain": [
       "2.382880002260208"
      ]
     },
     "execution_count": 152,
     "metadata": {},
     "output_type": "execute_result"
    }
   ],
   "source": [
    "np.mean(all_scores)"
   ]
  },
  {
   "cell_type": "markdown",
   "id": "fa2ccfaf",
   "metadata": {},
   "source": [
    "### 코드 4-27. 각 폴드의 검증 점수 저장하기"
   ]
  },
  {
   "cell_type": "code",
   "execution_count": 155,
   "id": "4bebda7b",
   "metadata": {},
   "outputs": [
    {
     "name": "stdout",
     "output_type": "stream",
     "text": [
      "#0th fold is being processed\n",
      "#1th fold is being processed\n",
      "#2th fold is being processed\n",
      "#3th fold is being processed\n"
     ]
    }
   ],
   "source": [
    "num_epochs = 500\n",
    "all_mae_histories = []\n",
    "\n",
    "for i in range(k):\n",
    "    print(f\"#{i}th fold is being processed\")\n",
    "    \n",
    "    val_data = train_data[i * num_val_samples : (i + 1) * num_val_samples]\n",
    "    val_targets = train_targets[i * num_val_samples : (i + 1) * num_val_samples]\n",
    "    \n",
    "    partial_train_data = np.concatenate([train_data[: i * num_val_samples], train_data[(i + 1) * num_val_samples :]], axis = 0)\n",
    "    partial_train_targets = np.concatenate([train_targets[: i * num_val_samples], train_targets[(i + 1) * num_val_samples :]], axis = 0)\n",
    "    \n",
    "    model = build_model()\n",
    "    \n",
    "    history = model.fit(partial_train_data, partial_train_targets, epochs = num_epochs, batch_size = 16, validation_data = (val_data, val_targets), verbose = 0)\n",
    "    \n",
    "    mae_history = history.history[\"val_mae\"]\n",
    "    all_mae_histories.append(mae_history)"
   ]
  },
  {
   "cell_type": "markdown",
   "id": "ce7a2c02",
   "metadata": {},
   "source": [
    "### 코드 4-28. K-fold 교차 검증 점수 평균 기록하기"
   ]
  },
  {
   "cell_type": "code",
   "execution_count": 156,
   "id": "a61b38da",
   "metadata": {},
   "outputs": [],
   "source": [
    "average_mae_history = [\n",
    "    np.mean([x[i] for x in all_mae_histories]) for i in range(num_epochs)\n",
    "]"
   ]
  },
  {
   "cell_type": "markdown",
   "id": "7af25f53",
   "metadata": {},
   "source": [
    "### 코드 4-29. 검증 점수 그래프 그리기"
   ]
  },
  {
   "cell_type": "code",
   "execution_count": 157,
   "id": "44de1df0",
   "metadata": {},
   "outputs": [
    {
     "data": {
      "image/png": "[encoded data removed]",
      "text/plain": [
       "<Figure size 640x480 with 1 Axes>"
      ]
     },
     "metadata": {},
     "output_type": "display_data"
    }
   ],
   "source": [
    "plt.plot(range(1, len(average_mae_history) + 1), average_mae_history)\n",
    "plt.xlabel(\"Epochs\")\n",
    "plt.ylabel(\"Validation MAE\")\n",
    "plt.show()"
   ]
  },
  {
   "cell_type": "markdown",
   "id": "c88f0b1c",
   "metadata": {},
   "source": [
    "### 코드 4-30. 처음 10개의 데이터 포인트를 제외한 검증 점수 그래프 그리기"
   ]
  },
  {
   "cell_type": "code",
   "execution_count": 158,
   "id": "377e6a05",
   "metadata": {},
   "outputs": [
    {
     "data": {
      "image/png": "[encoded data removed]",
      "text/plain": [
       "<Figure size 640x480 with 1 Axes>"
      ]
     },
     "metadata": {},
     "output_type": "display_data"
    }
   ],
   "source": [
    "truncated_mae_history = average_mae_history[10:]\n",
    "\n",
    "plt.plot(range(1, len(truncated_mae_history) + 1), truncated_mae_history)\n",
    "plt.xlabel(\"Epochs\")\n",
    "plt.ylabel(\"Validation MAE\")\n",
    "plt.show()"
   ]
  },
  {
   "cell_type": "markdown",
   "id": "2c91f52b",
   "metadata": {},
   "source": [
    "### 코드 4-31. 최종 모델 훈련하기"
   ]
  },
  {
   "cell_type": "code",
   "execution_count": 159,
   "id": "cd16070b",
   "metadata": {},
   "outputs": [
    {
     "name": "stdout",
     "output_type": "stream",
     "text": [
      "4/4 [==============================] - 0s 0s/step - loss: 16.0156 - mae: 2.5345\n"
     ]
    }
   ],
   "source": [
    "model = build_model()\n",
    "model.fit(train_data, train_targets, epochs = 130, batch_size = 16, verbose = 0)\n",
    "test_mse_score, test_mae_score = model.evaluate(test_data, test_targets)"
   ]
  },
  {
   "cell_type": "code",
   "execution_count": 160,
   "id": "2fc227b7",
   "metadata": {},
   "outputs": [
    {
     "data": {
      "text/plain": [
       "2.534463405609131"
      ]
     },
     "execution_count": 160,
     "metadata": {},
     "output_type": "execute_result"
    }
   ],
   "source": [
    "test_mae_score"
   ]
  },
  {
   "cell_type": "markdown",
   "id": "1ec04d23",
   "metadata": {},
   "source": [
    "## 4.3.5 새로운 데이터에 대해 예측하기"
   ]
  },
  {
   "cell_type": "code",
   "execution_count": 161,
   "id": "522e9919",
   "metadata": {},
   "outputs": [
    {
     "name": "stdout",
     "output_type": "stream",
     "text": [
      "4/4 [==============================] - 0s 4ms/step\n"
     ]
    }
   ],
   "source": [
    "predictions = model.predict(test_data)"
   ]
  },
  {
   "cell_type": "code",
   "execution_count": 162,
   "id": "14efc1ca",
   "metadata": {},
   "outputs": [
    {
     "data": {
      "text/plain": [
       "array([8.08242], dtype=float32)"
      ]
     },
     "execution_count": 162,
     "metadata": {},
     "output_type": "execute_result"
    }
   ],
   "source": [
    "predictions[0]"
   ]
  },
  {
   "cell_type": "code",
   "execution_count": null,
   "id": "edfc9048",
   "metadata": {},
   "outputs": [],
   "source": []
  }
 ],
 "metadata": {
  "kernelspec": {
   "display_name": "Python 3 (ipykernel)",
   "language": "python",
   "name": "python3"
  },
  "language_info": {
   "codemirror_mode": {
    "name": "ipython",
    "version": 3
   },
   "file_extension": ".py",
   "mimetype": "text/x-python",
   "name": "python",
   "nbconvert_exporter": "python",
   "pygments_lexer": "ipython3",
   "version": "3.7.16"
  }
 },
 "nbformat": 4,
 "nbformat_minor": 5
}
