{
 "cells": [
  {
   "cell_type": "markdown",
   "id": "791ae2f4",
   "metadata": {},
   "source": [
    "# 텐서플로 이해하기"
   ]
  },
  {
   "cell_type": "markdown",
   "id": "edb891af",
   "metadata": {},
   "source": [
    "### 코드 3-1. 모두 1 또는 0인 텐서"
   ]
  },
  {
   "cell_type": "code",
   "execution_count": 8,
   "id": "ab2bcc21",
   "metadata": {
    "vscode": {
     "languageId": "plaintext"
    }
   },
   "outputs": [],
   "source": [
    "import tensorflow as tf"
   ]
  },
  {
   "cell_type": "code",
   "execution_count": 9,
   "id": "201ef5d5",
   "metadata": {},
   "outputs": [],
   "source": [
    "x = tf.ones(shape = (2, 1)) # indentical with np.ones(shape = (2, 1))"
   ]
  },
  {
   "cell_type": "code",
   "execution_count": 10,
   "id": "15038e45",
   "metadata": {},
   "outputs": [
    {
     "name": "stdout",
     "output_type": "stream",
     "text": [
      "tf.Tensor(\n",
      "[[1.]\n",
      " [1.]], shape=(2, 1), dtype=float32)\n"
     ]
    }
   ],
   "source": [
    "print(x)"
   ]
  },
  {
   "cell_type": "code",
   "execution_count": 11,
   "id": "0a8e83dd",
   "metadata": {},
   "outputs": [],
   "source": [
    "x = tf.ones(shape = (1, 2))"
   ]
  },
  {
   "cell_type": "code",
   "execution_count": 12,
   "id": "be936dc7",
   "metadata": {},
   "outputs": [
    {
     "name": "stdout",
     "output_type": "stream",
     "text": [
      "tf.Tensor([[1. 1.]], shape=(1, 2), dtype=float32)\n"
     ]
    }
   ],
   "source": [
    "print(x)"
   ]
  },
  {
   "cell_type": "code",
   "execution_count": 13,
   "id": "d2055db4",
   "metadata": {},
   "outputs": [],
   "source": [
    "x = tf.zeros(shape = (2, 2))"
   ]
  },
  {
   "cell_type": "code",
   "execution_count": 14,
   "id": "9d57c4d7",
   "metadata": {},
   "outputs": [
    {
     "name": "stdout",
     "output_type": "stream",
     "text": [
      "tf.Tensor(\n",
      "[[0. 0.]\n",
      " [0. 0.]], shape=(2, 2), dtype=float32)\n"
     ]
    }
   ],
   "source": [
    "print(x)"
   ]
  },
  {
   "cell_type": "markdown",
   "id": "b8479172",
   "metadata": {},
   "source": [
    "### 코드 3-2. 랜덤 텐서"
   ]
  },
  {
   "cell_type": "code",
   "execution_count": 15,
   "id": "2994c3f8",
   "metadata": {},
   "outputs": [],
   "source": [
    "x = tf.random.normal(shape = (10, 10), mean = 0., stddev = 1.)"
   ]
  },
  {
   "cell_type": "code",
   "execution_count": 16,
   "id": "6de512b3",
   "metadata": {},
   "outputs": [
    {
     "name": "stdout",
     "output_type": "stream",
     "text": [
      "tf.Tensor(\n",
      "[[ 1.1759074  -0.02705322  1.398078   -1.9844829   1.1213081  -1.545662\n",
      "  -1.5107526   0.0189478  -0.2039079   1.278165  ]\n",
      " [-0.67885274  0.84657353 -1.9880797  -0.7712956   0.21890719 -1.172449\n",
      "   0.56317943 -0.6561466  -0.6052757   0.981199  ]\n",
      " [-0.60330373 -1.0097924   1.6176442   0.37869513  0.75103265  1.4071563\n",
      "  -1.4731547  -0.75444627  0.9884316   0.19953294]\n",
      " [-0.04801876  1.0086001  -0.09704863 -1.3902669   0.81744206  0.94102305\n",
      "   0.24418923 -0.9376492  -0.12518525 -0.9527716 ]\n",
      " [ 0.5293361   1.0146906  -0.6018506  -0.7295527  -0.62874824  2.0968359\n",
      "   0.6373162   0.35021237  0.25639012  1.4159681 ]\n",
      " [ 0.08938625 -0.11098915 -0.20808148  0.22328609  0.17985187 -0.27012944\n",
      "  -0.00981373  0.27502292  0.59964406  1.2553164 ]\n",
      " [-0.09059042 -0.39269355 -0.39565247 -0.36768258 -2.3936625  -1.5163927\n",
      "   0.20715997  0.60776544  1.6804118   0.70506006]\n",
      " [-0.61374396 -0.16361777  0.2467401  -1.2029421  -0.78303003 -0.8529147\n",
      "   0.03880177 -1.3692688  -1.5968748   1.3327848 ]\n",
      " [-0.12403427  0.49201888  1.4224733  -0.06227069  1.0035388  -1.2222928\n",
      "   1.1358262   0.38148046 -0.0034991  -0.02308883]\n",
      " [ 0.5961981   1.368525   -0.1172942   0.46788976 -0.70307994 -0.6487678\n",
      "  -0.0440908  -0.01375923 -0.192885    0.6706823 ]], shape=(10, 10), dtype=float32)\n"
     ]
    }
   ],
   "source": [
    "print(x)"
   ]
  },
  {
   "cell_type": "code",
   "execution_count": 17,
   "id": "c5e8b466",
   "metadata": {},
   "outputs": [],
   "source": [
    "x = tf.random.uniform(shape = (5, 5), minval = 0., maxval = 1.)"
   ]
  },
  {
   "cell_type": "code",
   "execution_count": 18,
   "id": "79f5dc7c",
   "metadata": {},
   "outputs": [
    {
     "name": "stdout",
     "output_type": "stream",
     "text": [
      "tf.Tensor(\n",
      "[[0.83846986 0.9162091  0.21774673 0.12593222 0.5286442 ]\n",
      " [0.38425708 0.9577327  0.5143256  0.4406315  0.47024012]\n",
      " [0.4322827  0.49272263 0.38819194 0.9308282  0.16395664]\n",
      " [0.90332675 0.5755973  0.4868003  0.31454778 0.22720361]\n",
      " [0.25811088 0.80469036 0.8351469  0.9329146  0.3725152 ]], shape=(5, 5), dtype=float32)\n"
     ]
    }
   ],
   "source": [
    "print(x)"
   ]
  },
  {
   "cell_type": "markdown",
   "id": "be5d0617",
   "metadata": {},
   "source": [
    "### 코드 3-3. 넘파이 배열에 값 할당하기"
   ]
  },
  {
   "cell_type": "code",
   "execution_count": 19,
   "id": "9bba829b",
   "metadata": {},
   "outputs": [],
   "source": [
    "import numpy as np\n",
    "\n",
    "x = np.ones(shape = (2, 2))\n",
    "x[0, 0] = 0"
   ]
  },
  {
   "cell_type": "markdown",
   "id": "41d6dc76",
   "metadata": {},
   "source": [
    "### 코드 3-4. 텐서플로 텐서에는 값을 할당하지 못함"
   ]
  },
  {
   "cell_type": "code",
   "execution_count": 20,
   "id": "1908a033",
   "metadata": {},
   "outputs": [
    {
     "ename": "TypeError",
     "evalue": "'tensorflow.python.framework.ops.EagerTensor' object does not support item assignment",
     "output_type": "error",
     "traceback": [
      "\u001b[1;31m---------------------------------------------------------------------------\u001b[0m",
      "\u001b[1;31mTypeError\u001b[0m                                 Traceback (most recent call last)",
      "\u001b[1;32m~\\AppData\\Local\\Temp\\ipykernel_2500\\2591768225.py\u001b[0m in \u001b[0;36m<module>\u001b[1;34m\u001b[0m\n\u001b[0;32m      1\u001b[0m \u001b[0mx\u001b[0m \u001b[1;33m=\u001b[0m \u001b[0mtf\u001b[0m\u001b[1;33m.\u001b[0m\u001b[0mones\u001b[0m\u001b[1;33m(\u001b[0m\u001b[0mshape\u001b[0m \u001b[1;33m=\u001b[0m \u001b[1;33m(\u001b[0m\u001b[1;36m2\u001b[0m\u001b[1;33m,\u001b[0m \u001b[1;36m2\u001b[0m\u001b[1;33m)\u001b[0m\u001b[1;33m)\u001b[0m\u001b[1;33m\u001b[0m\u001b[1;33m\u001b[0m\u001b[0m\n\u001b[1;32m----> 2\u001b[1;33m \u001b[0mx\u001b[0m\u001b[1;33m[\u001b[0m\u001b[1;36m0\u001b[0m\u001b[1;33m,\u001b[0m \u001b[1;36m0\u001b[0m\u001b[1;33m]\u001b[0m \u001b[1;33m=\u001b[0m \u001b[1;36m0\u001b[0m\u001b[1;33m\u001b[0m\u001b[1;33m\u001b[0m\u001b[0m\n\u001b[0m",
      "\u001b[1;31mTypeError\u001b[0m: 'tensorflow.python.framework.ops.EagerTensor' object does not support item assignment"
     ]
    }
   ],
   "source": [
    "x = tf.ones(shape = (2, 2))\n",
    "x[0, 0] = 0"
   ]
  },
  {
   "cell_type": "markdown",
   "id": "13995e47",
   "metadata": {},
   "source": [
    "### 코드 3-5. 텐서플로 변수 만들기"
   ]
  },
  {
   "cell_type": "code",
   "execution_count": 21,
   "id": "8c3e92f8",
   "metadata": {},
   "outputs": [],
   "source": [
    "v = tf.Variable(initial_value = tf.random.normal(shape = (3, 3)))"
   ]
  },
  {
   "cell_type": "code",
   "execution_count": 22,
   "id": "d4463975",
   "metadata": {},
   "outputs": [
    {
     "name": "stdout",
     "output_type": "stream",
     "text": [
      "<tf.Variable 'Variable:0' shape=(3, 3) dtype=float32, numpy=\n",
      "array([[ 1.1421872 ,  2.118522  , -1.9005806 ],\n",
      "       [ 0.7475267 ,  0.07258096, -0.60391337],\n",
      "       [-1.5467762 , -0.5087403 , -0.3534986 ]], dtype=float32)>\n"
     ]
    }
   ],
   "source": [
    "print(v)"
   ]
  },
  {
   "cell_type": "markdown",
   "id": "6a2007e8",
   "metadata": {},
   "source": [
    "### 코드 3-6. 텐서플로 변수에 값 할당하기"
   ]
  },
  {
   "cell_type": "code",
   "execution_count": 23,
   "id": "83b4b4b2",
   "metadata": {},
   "outputs": [
    {
     "data": {
      "text/plain": [
       "<tf.Variable 'UnreadVariable' shape=(3, 3) dtype=float32, numpy=\n",
       "array([[1., 1., 1.],\n",
       "       [1., 1., 1.],\n",
       "       [1., 1., 1.]], dtype=float32)>"
      ]
     },
     "execution_count": 23,
     "metadata": {},
     "output_type": "execute_result"
    }
   ],
   "source": [
    "v.assign(tf.ones((3, 3)))"
   ]
  },
  {
   "cell_type": "markdown",
   "id": "46b6182c",
   "metadata": {},
   "source": [
    "### 코드 3-7. 변수 일부에 값 할당하기"
   ]
  },
  {
   "cell_type": "code",
   "execution_count": 24,
   "id": "2c697f47",
   "metadata": {},
   "outputs": [
    {
     "data": {
      "text/plain": [
       "<tf.Variable 'UnreadVariable' shape=(3, 3) dtype=float32, numpy=\n",
       "array([[3., 1., 1.],\n",
       "       [1., 1., 1.],\n",
       "       [1., 1., 1.]], dtype=float32)>"
      ]
     },
     "execution_count": 24,
     "metadata": {},
     "output_type": "execute_result"
    }
   ],
   "source": [
    "v[0, 0].assign(3.)"
   ]
  },
  {
   "cell_type": "markdown",
   "id": "71ba68a1",
   "metadata": {},
   "source": [
    "### 코드 3-8. assign_add() 사용하기"
   ]
  },
  {
   "cell_type": "code",
   "execution_count": 25,
   "id": "0d74df73",
   "metadata": {},
   "outputs": [
    {
     "data": {
      "text/plain": [
       "<tf.Variable 'UnreadVariable' shape=(3, 3) dtype=float32, numpy=\n",
       "array([[4., 2., 2.],\n",
       "       [2., 2., 2.],\n",
       "       [2., 2., 2.]], dtype=float32)>"
      ]
     },
     "execution_count": 25,
     "metadata": {},
     "output_type": "execute_result"
    }
   ],
   "source": [
    "v.assign_add(tf.ones(shape = (3, 3)))"
   ]
  },
  {
   "cell_type": "code",
   "execution_count": 26,
   "id": "ac3cff85",
   "metadata": {},
   "outputs": [
    {
     "data": {
      "text/plain": [
       "<tf.Variable 'UnreadVariable' shape=(3, 3) dtype=float32, numpy=\n",
       "array([[3., 1., 1.],\n",
       "       [1., 1., 1.],\n",
       "       [1., 1., 1.]], dtype=float32)>"
      ]
     },
     "execution_count": 26,
     "metadata": {},
     "output_type": "execute_result"
    }
   ],
   "source": [
    "v.assign_sub(tf.ones(shape = (3, 3)))"
   ]
  },
  {
   "cell_type": "markdown",
   "id": "426bb387",
   "metadata": {},
   "source": [
    "### 코드 3-9. 기본적인 수학 연산"
   ]
  },
  {
   "cell_type": "code",
   "execution_count": 27,
   "id": "7c406c6d",
   "metadata": {},
   "outputs": [],
   "source": [
    "a = tf.ones((2, 2))\n",
    "b = tf.square(a)\n",
    "c = tf.sqrt(a)\n",
    "d = b + c\n",
    "e = tf.matmul(a, b)\n",
    "e *= d"
   ]
  },
  {
   "cell_type": "code",
   "execution_count": 28,
   "id": "6ae5f808",
   "metadata": {},
   "outputs": [
    {
     "name": "stdout",
     "output_type": "stream",
     "text": [
      "tf.Tensor(\n",
      "[[1. 1.]\n",
      " [1. 1.]], shape=(2, 2), dtype=float32)\n",
      "tf.Tensor(\n",
      "[[1. 1.]\n",
      " [1. 1.]], shape=(2, 2), dtype=float32)\n",
      "tf.Tensor(\n",
      "[[1. 1.]\n",
      " [1. 1.]], shape=(2, 2), dtype=float32)\n",
      "tf.Tensor(\n",
      "[[2. 2.]\n",
      " [2. 2.]], shape=(2, 2), dtype=float32)\n",
      "tf.Tensor(\n",
      "[[4. 4.]\n",
      " [4. 4.]], shape=(2, 2), dtype=float32)\n"
     ]
    }
   ],
   "source": [
    "print(a)\n",
    "print(b)\n",
    "print(c)\n",
    "print(d)\n",
    "print(e)"
   ]
  },
  {
   "cell_type": "markdown",
   "id": "2665c3b7",
   "metadata": {},
   "source": [
    "### 코드 3-10. GradientTape 사용하기"
   ]
  },
  {
   "cell_type": "code",
   "execution_count": 29,
   "id": "aa896c7a",
   "metadata": {},
   "outputs": [],
   "source": [
    "input_var = tf.Variable(initial_value = 3.)"
   ]
  },
  {
   "cell_type": "code",
   "execution_count": 30,
   "id": "cff36bfa",
   "metadata": {},
   "outputs": [
    {
     "name": "stdout",
     "output_type": "stream",
     "text": [
      "<tf.Variable 'Variable:0' shape=() dtype=float32, numpy=3.0>\n"
     ]
    }
   ],
   "source": [
    "print(input_var)"
   ]
  },
  {
   "cell_type": "code",
   "execution_count": 31,
   "id": "e8795a64",
   "metadata": {},
   "outputs": [],
   "source": [
    "with tf.GradientTape() as tape:\n",
    "    result = tf.square(input_var)"
   ]
  },
  {
   "cell_type": "code",
   "execution_count": 32,
   "id": "668072ec",
   "metadata": {},
   "outputs": [],
   "source": [
    "gradient = tape.gradient(result, input_var)"
   ]
  },
  {
   "cell_type": "code",
   "execution_count": 33,
   "id": "0ae0613b",
   "metadata": {},
   "outputs": [
    {
     "name": "stdout",
     "output_type": "stream",
     "text": [
      "tf.Tensor(6.0, shape=(), dtype=float32)\n"
     ]
    }
   ],
   "source": [
    "print(gradient)"
   ]
  },
  {
   "cell_type": "markdown",
   "id": "95c4906b",
   "metadata": {},
   "source": [
    "### 코드 3-11. 상수 텐서 입력과 함께 GradientTape 사용하기"
   ]
  },
  {
   "cell_type": "code",
   "execution_count": 34,
   "id": "b994a7ed",
   "metadata": {},
   "outputs": [],
   "source": [
    "input_const = tf.constant(3.)"
   ]
  },
  {
   "cell_type": "code",
   "execution_count": 35,
   "id": "925fe58e",
   "metadata": {},
   "outputs": [],
   "source": [
    "with tf.GradientTape() as tape:\n",
    "    tape.watch(input_const)\n",
    "    result = tf.square(input_const)"
   ]
  },
  {
   "cell_type": "code",
   "execution_count": 36,
   "id": "2e53b8d5",
   "metadata": {},
   "outputs": [],
   "source": [
    "gradient = tape.gradient(result, input_const)"
   ]
  },
  {
   "cell_type": "code",
   "execution_count": 37,
   "id": "c83e7df2",
   "metadata": {},
   "outputs": [
    {
     "name": "stdout",
     "output_type": "stream",
     "text": [
      "tf.Tensor(6.0, shape=(), dtype=float32)\n"
     ]
    }
   ],
   "source": [
    "print(gradient)"
   ]
  },
  {
   "cell_type": "markdown",
   "id": "0961fe4f",
   "metadata": {},
   "source": [
    "### 코드 3-12. 그레이디언트 테이프를 중첩하여 이계도 그레이디언트 계산하기"
   ]
  },
  {
   "cell_type": "code",
   "execution_count": 38,
   "id": "ca33d69c",
   "metadata": {},
   "outputs": [],
   "source": [
    "time = tf.Variable(2.)"
   ]
  },
  {
   "cell_type": "code",
   "execution_count": 39,
   "id": "51e37f23",
   "metadata": {},
   "outputs": [],
   "source": [
    "with tf.GradientTape() as outer_tape:\n",
    "    with tf.GradientTape() as inner_tape:\n",
    "        position = 4.9 * time ** 2\n",
    "    speed = inner_tape.gradient(position, time)\n",
    "acceleration = outer_tape.gradient(speed, time)"
   ]
  },
  {
   "cell_type": "code",
   "execution_count": 40,
   "id": "94495d12",
   "metadata": {},
   "outputs": [
    {
     "name": "stdout",
     "output_type": "stream",
     "text": [
      "tf.Tensor(19.6, shape=(), dtype=float32)\n"
     ]
    }
   ],
   "source": [
    "print(speed)"
   ]
  },
  {
   "cell_type": "code",
   "execution_count": 41,
   "id": "8454be0f",
   "metadata": {},
   "outputs": [
    {
     "name": "stdout",
     "output_type": "stream",
     "text": [
      "tf.Tensor(9.8, shape=(), dtype=float32)\n"
     ]
    }
   ],
   "source": [
    "print(acceleration)"
   ]
  },
  {
   "cell_type": "markdown",
   "id": "7a5b8f49",
   "metadata": {},
   "source": [
    "### 코드 3-13. 2D 평면에 두 클래스의 랜덤한 포인트 생성하기"
   ]
  },
  {
   "cell_type": "code",
   "execution_count": 42,
   "id": "e08ec699",
   "metadata": {},
   "outputs": [],
   "source": [
    "num_samples_per_class = 1000\n",
    "negative_samples = np.random.multivariate_normal(\n",
    "    mean = [0, 3],\n",
    "    cov =[[1, 0.5], [0.5, 1]],\n",
    "    size = num_samples_per_class)\n",
    "positive_samples = np.random.multivariate_normal(\n",
    "    mean = [3, 0],\n",
    "    cov = [[1, 0.5], [0.5, 1]],\n",
    "    size = num_samples_per_class)"
   ]
  },
  {
   "cell_type": "markdown",
   "id": "3fc614a1",
   "metadata": {},
   "source": [
    "### 코드 3-14. 두 클래스를 (2000, 2) 크기의 한 배열로 쌓기"
   ]
  },
  {
   "cell_type": "code",
   "execution_count": 43,
   "id": "0640ebfd",
   "metadata": {},
   "outputs": [],
   "source": [
    "inputs = np.vstack((negative_samples, positive_samples)).astype(np.float32)"
   ]
  },
  {
   "cell_type": "markdown",
   "id": "062dec58",
   "metadata": {},
   "source": [
    "### 코드 3-15. 0과 1로 구성된 타깃 생성하기"
   ]
  },
  {
   "cell_type": "code",
   "execution_count": 44,
   "id": "5c6174ae",
   "metadata": {},
   "outputs": [],
   "source": [
    "targets = np.vstack((np.zeros((num_samples_per_class, 1), dtype = \"float32\"),\n",
    "                     np.ones((num_samples_per_class, 1), dtype = \"float32\")))"
   ]
  },
  {
   "cell_type": "markdown",
   "id": "39ec0d51",
   "metadata": {},
   "source": [
    "### 코드 3-16. 두 클래스의 포인트를 그래프로 그리기"
   ]
  },
  {
   "cell_type": "code",
   "execution_count": 45,
   "id": "e69427ba",
   "metadata": {},
   "outputs": [
    {
     "data": {
      "image/png": "[encoded data removed]",
      "text/plain": [
       "<Figure size 640x480 with 1 Axes>"
      ]
     },
     "metadata": {},
     "output_type": "display_data"
    }
   ],
   "source": [
    "import matplotlib.pyplot as plt\n",
    "\n",
    "plt.scatter(inputs[:, 0], inputs[:, 1], c = targets[:, 0])\n",
    "plt.show()"
   ]
  },
  {
   "cell_type": "markdown",
   "id": "34656f54",
   "metadata": {},
   "source": [
    "### 코드 3-17. 선형 분류기의 변수 만들기"
   ]
  },
  {
   "cell_type": "code",
   "execution_count": 46,
   "id": "8edd7204",
   "metadata": {},
   "outputs": [],
   "source": [
    "input_dim = 2 # 입력은 2D 포인트\n",
    "output_dim = 1 # 출력은 1D 클래스\n",
    "W = tf.Variable(initial_value = tf.random.uniform(shape = (input_dim, output_dim)))\n",
    "b = tf.Variable(initial_value = tf.zeros(shape = (output_dim, )))"
   ]
  },
  {
   "cell_type": "markdown",
   "id": "c700a051",
   "metadata": {},
   "source": [
    "### 코드 3-18. 정방향 패스 함수"
   ]
  },
  {
   "cell_type": "code",
   "execution_count": 47,
   "id": "5b84c2c5",
   "metadata": {},
   "outputs": [],
   "source": [
    "def model(inputs):\n",
    "    return tf.matmul(inputs, W) + b # prediction = W . input + b"
   ]
  },
  {
   "cell_type": "markdown",
   "id": "3393a81a",
   "metadata": {},
   "source": [
    "### 코드 3-19. 평균 제곱 오차 손실 함수"
   ]
  },
  {
   "cell_type": "code",
   "execution_count": 48,
   "id": "8c0991cf",
   "metadata": {},
   "outputs": [],
   "source": [
    "def square_loss(targets, predictions):\n",
    "    per_sample_losses = tf.square(targets - predictions) # 각각의 샘플들의 손실 값들을 모두 담고 있음\n",
    "    return tf.reduce_mean(per_sample_losses) # 모든 손실 값을 평균냄"
   ]
  },
  {
   "cell_type": "markdown",
   "id": "8025a7e4",
   "metadata": {},
   "source": [
    "### 코드 3-20. 훈련 스텝 함수"
   ]
  },
  {
   "cell_type": "code",
   "execution_count": 49,
   "id": "694c6aac",
   "metadata": {},
   "outputs": [],
   "source": [
    "learning_rate = 0.1\n",
    "\n",
    "def training_step(inputs, targets):\n",
    "    # 정방향 패스\n",
    "    with tf.GradientTape() as tape:\n",
    "        predictions = model(inputs)\n",
    "        loss = square_loss(targets, predictions)\n",
    "        \n",
    "    grad_loss_wrt_W, grad_loss_wrt_b = tape.gradient(loss, [W, b]) # 가중치에 대한 손실의 그레이디언트 계산\n",
    "    \n",
    "    # 가중치 업데이트\n",
    "    W.assign_sub(grad_loss_wrt_W * learning_rate)\n",
    "    b.assign_sub(grad_loss_wrt_b * learning_rate)\n",
    "    return loss"
   ]
  },
  {
   "cell_type": "markdown",
   "id": "cbfe93fd",
   "metadata": {},
   "source": [
    "### 코드 3-21. 배치 훈련 루프"
   ]
  },
  {
   "cell_type": "code",
   "execution_count": 50,
   "id": "1e1ab6f2",
   "metadata": {},
   "outputs": [
    {
     "name": "stdout",
     "output_type": "stream",
     "text": [
      "0th step's loss: 2.7436\n",
      "1th step's loss: 0.4709\n",
      "2th step's loss: 0.1760\n",
      "3th step's loss: 0.1291\n",
      "4th step's loss: 0.1156\n",
      "5th step's loss: 0.1072\n",
      "6th step's loss: 0.1000\n",
      "7th step's loss: 0.0936\n",
      "8th step's loss: 0.0877\n",
      "9th step's loss: 0.0823\n",
      "10th step's loss: 0.0774\n",
      "11th step's loss: 0.0729\n",
      "12th step's loss: 0.0689\n",
      "13th step's loss: 0.0651\n",
      "14th step's loss: 0.0618\n",
      "15th step's loss: 0.0587\n",
      "16th step's loss: 0.0558\n",
      "17th step's loss: 0.0533\n",
      "18th step's loss: 0.0509\n",
      "19th step's loss: 0.0488\n",
      "20th step's loss: 0.0468\n",
      "21th step's loss: 0.0450\n",
      "22th step's loss: 0.0434\n",
      "23th step's loss: 0.0419\n",
      "24th step's loss: 0.0405\n",
      "25th step's loss: 0.0393\n",
      "26th step's loss: 0.0382\n",
      "27th step's loss: 0.0371\n",
      "28th step's loss: 0.0362\n",
      "29th step's loss: 0.0353\n",
      "30th step's loss: 0.0346\n",
      "31th step's loss: 0.0338\n",
      "32th step's loss: 0.0332\n",
      "33th step's loss: 0.0326\n",
      "34th step's loss: 0.0321\n",
      "35th step's loss: 0.0316\n",
      "36th step's loss: 0.0311\n",
      "37th step's loss: 0.0307\n",
      "38th step's loss: 0.0303\n",
      "39th step's loss: 0.0300\n"
     ]
    }
   ],
   "source": [
    "for step in range(40):\n",
    "    loss = training_step(inputs, targets)\n",
    "    print(f\"{step}th step's loss: {loss:.4f}\")"
   ]
  },
  {
   "cell_type": "code",
   "execution_count": 51,
   "id": "d188d8f8",
   "metadata": {},
   "outputs": [
    {
     "name": "stdout",
     "output_type": "stream",
     "text": [
      "loss of training: 0.0297\n"
     ]
    }
   ],
   "source": [
    "loss = training_step(inputs, targets)\n",
    "print(f\"loss of training: {loss:.4f}\")"
   ]
  },
  {
   "cell_type": "code",
   "execution_count": 52,
   "id": "f5cab5be",
   "metadata": {},
   "outputs": [
    {
     "data": {
      "image/png": "[encoded data removed]",
      "text/plain": [
       "<Figure size 640x480 with 1 Axes>"
      ]
     },
     "metadata": {},
     "output_type": "display_data"
    }
   ],
   "source": [
    "predictions = model(inputs)\n",
    "\n",
    "x = np.linspace(-1, 4, 100)\n",
    "y = - W[0] / W[1] * x + (0.5 - b) / W[1]\n",
    "plt.plot(x, y, \"-r\")\n",
    "plt.scatter(inputs[:, 0], inputs[:, 1], c = predictions[:, 0] > 0.5)\n",
    "plt.show()"
   ]
  },
  {
   "cell_type": "markdown",
   "id": "d203ace1",
   "metadata": {},
   "source": [
    "# Keras API 이해하기"
   ]
  },
  {
   "cell_type": "markdown",
   "id": "403a609a",
   "metadata": {},
   "source": [
    "### 코드 3-22. Layer의 서브클래스(subclass)로 구현한 Dense 층"
   ]
  },
  {
   "cell_type": "code",
   "execution_count": 53,
   "id": "71dd7894",
   "metadata": {},
   "outputs": [],
   "source": [
    "from tensorflow import keras\n",
    "\n",
    "class SimpleDense(keras.layers.Layer):\n",
    "    \n",
    "    def __init__(self, units, activation = None):\n",
    "        super().__init__()\n",
    "        self.units = units\n",
    "        self.activation = activation\n",
    "        \n",
    "    def build(self, input_shape): # build() 메소드에서 가중치를 생성\n",
    "        input_dim = input_shape[-1]\n",
    "        self.W = self.add_weight(shape = (input_dim, self.units), initializer = \"random_normal\") # add_weight()는 가중치를 간단히 생성할 수 있는 메소드\n",
    "        self.b = self.add_weight(shape = (self.units, ), initializer = \"zeros\")\n",
    "        \n",
    "    def call(self, inputs): # call() 메소드에서 정방향 패스 계산을 정의\n",
    "        y = tf.matmul(inputs, self.W) + self.b\n",
    "        if self.activation is not None:\n",
    "            y = self.activation(y)\n",
    "        return y"
   ]
  },
  {
   "cell_type": "markdown",
   "id": "0585ecad",
   "metadata": {},
   "source": [
    "### 코드 3-23. 넘파이 데이터로 fit() 메소드 호출하기"
   ]
  },
  {
   "cell_type": "code",
   "execution_count": 54,
   "id": "524d6261",
   "metadata": {},
   "outputs": [],
   "source": [
    "model = keras.Sequential([keras.layers.Dense(1)]) # 선형 분류기 정의\n",
    "model.compile(optimizer = \"rmsprop\", # 최적화기는 RMSprop\n",
    "              loss = \"mean_squared_error\", # 손실 함수는 평균 제곱 오차\n",
    "              metrics = [\"accuracy\"]) # 측정 지표를 리스트로 정의, 정확도"
   ]
  },
  {
   "cell_type": "code",
   "execution_count": 55,
   "id": "72247c50",
   "metadata": {},
   "outputs": [
    {
     "name": "stdout",
     "output_type": "stream",
     "text": [
      "Epoch 1/5\n",
      "16/16 [==============================] - 2s 3ms/step - loss: 1.6459 - accuracy: 0.9740\n",
      "Epoch 2/5\n",
      "16/16 [==============================] - 0s 4ms/step - loss: 1.5067 - accuracy: 0.9715\n",
      "Epoch 3/5\n",
      "16/16 [==============================] - 0s 4ms/step - loss: 1.3940 - accuracy: 0.9700\n",
      "Epoch 4/5\n",
      "16/16 [==============================] - 0s 4ms/step - loss: 1.2884 - accuracy: 0.9695\n",
      "Epoch 5/5\n",
      "16/16 [==============================] - 0s 3ms/step - loss: 1.1887 - accuracy: 0.9675\n"
     ]
    }
   ],
   "source": [
    "history = model.fit(\n",
    "    inputs,\n",
    "    targets,\n",
    "    epochs = 5,\n",
    "    batch_size = 128\n",
    ")"
   ]
  },
  {
   "cell_type": "code",
   "execution_count": 56,
   "id": "e0c4241e",
   "metadata": {},
   "outputs": [
    {
     "data": {
      "text/plain": [
       "{'loss': [1.6459389925003052,\n",
       "  1.5066591501235962,\n",
       "  1.3940225839614868,\n",
       "  1.2883718013763428,\n",
       "  1.1887098550796509],\n",
       " 'accuracy': [0.9739999771118164,\n",
       "  0.9714999794960022,\n",
       "  0.9700000286102295,\n",
       "  0.9695000052452087,\n",
       "  0.9674999713897705]}"
      ]
     },
     "execution_count": 56,
     "metadata": {},
     "output_type": "execute_result"
    }
   ],
   "source": [
    "history.history"
   ]
  },
  {
   "cell_type": "markdown",
   "id": "a23af78c",
   "metadata": {},
   "source": [
    "### 코드 3-24. validation_data 매개변수 사용하기"
   ]
  },
  {
   "cell_type": "code",
   "execution_count": 57,
   "id": "7f25da75",
   "metadata": {},
   "outputs": [],
   "source": [
    "import tensorflow as tf\n",
    "import keras"
   ]
  },
  {
   "cell_type": "code",
   "execution_count": 58,
   "id": "9cfcf5d7",
   "metadata": {},
   "outputs": [],
   "source": [
    "model = keras.Sequential([keras.layers.Dense(1)])"
   ]
  },
  {
   "cell_type": "code",
   "execution_count": 59,
   "id": "c5d54910",
   "metadata": {},
   "outputs": [],
   "source": [
    "model.compile(optimizer = keras.optimizers.RMSprop(learning_rate = 0.1),\n",
    "              loss = keras.losses.MeanSquaredError(),\n",
    "              metrics = [keras.metrics.BinaryAccuracy()])"
   ]
  },
  {
   "cell_type": "code",
   "execution_count": 60,
   "id": "f236ba41",
   "metadata": {},
   "outputs": [],
   "source": [
    "indices_permutation = np.random.permutation(len(inputs)) # 랜덤한 인덱스를 생성\n",
    "shuffled_inputs = inputs[indices_permutation] # 랜덤한 샘플\n",
    "shuffled_targets = targets[indices_permutation] # 랜덤한 타깃"
   ]
  },
  {
   "cell_type": "code",
   "execution_count": 61,
   "id": "53bceca2",
   "metadata": {},
   "outputs": [],
   "source": [
    "num_validation_samples = int(0.3 * len(inputs))\n",
    "val_inputs = shuffled_inputs[:num_validation_samples]\n",
    "val_targets = shuffled_targets[:num_validation_samples]\n",
    "\n",
    "training_inputs = shuffled_inputs[num_validation_samples:]\n",
    "training_targets = shuffled_targets[num_validation_samples:]"
   ]
  },
  {
   "cell_type": "code",
   "execution_count": 62,
   "id": "09800b74",
   "metadata": {},
   "outputs": [
    {
     "name": "stdout",
     "output_type": "stream",
     "text": [
      "Epoch 1/5\n",
      "88/88 [==============================] - 2s 12ms/step - loss: 0.1630 - binary_accuracy: 0.9257 - val_loss: 0.1025 - val_binary_accuracy: 0.8750\n",
      "Epoch 2/5\n",
      "88/88 [==============================] - 0s 5ms/step - loss: 0.0759 - binary_accuracy: 0.9493 - val_loss: 0.0356 - val_binary_accuracy: 1.0000\n",
      "Epoch 3/5\n",
      "88/88 [==============================] - 0s 5ms/step - loss: 0.0758 - binary_accuracy: 0.9564 - val_loss: 0.0538 - val_binary_accuracy: 0.9867\n",
      "Epoch 4/5\n",
      "88/88 [==============================] - 0s 5ms/step - loss: 0.0771 - binary_accuracy: 0.9464 - val_loss: 0.0639 - val_binary_accuracy: 0.9683\n",
      "Epoch 5/5\n",
      "88/88 [==============================] - 0s 6ms/step - loss: 0.0749 - binary_accuracy: 0.9550 - val_loss: 0.1692 - val_binary_accuracy: 0.8750\n"
     ]
    },
    {
     "data": {
      "text/plain": [
       "<keras.callbacks.History at 0x130a0bea5c8>"
      ]
     },
     "execution_count": 62,
     "metadata": {},
     "output_type": "execute_result"
    }
   ],
   "source": [
    "model.fit(\n",
    "    training_inputs,\n",
    "    training_targets,\n",
    "    epochs = 5,\n",
    "    batch_size = 16,\n",
    "    validation_data = (val_inputs, val_targets)\n",
    ")"
   ]
  },
  {
   "cell_type": "code",
   "execution_count": 63,
   "id": "f8dc5a39",
   "metadata": {},
   "outputs": [
    {
     "name": "stdout",
     "output_type": "stream",
     "text": [
      "5/5 [==============================] - 0s 4ms/step - loss: 0.1692 - binary_accuracy: 0.8750\n"
     ]
    }
   ],
   "source": [
    "loss_and_metrics = model.evaluate(val_inputs, val_targets, batch_size = 128)"
   ]
  },
  {
   "cell_type": "code",
   "execution_count": 64,
   "id": "6b12a222",
   "metadata": {},
   "outputs": [
    {
     "data": {
      "text/plain": [
       "[0.16924911737442017, 0.875]"
      ]
     },
     "execution_count": 64,
     "metadata": {},
     "output_type": "execute_result"
    }
   ],
   "source": [
    "loss_and_metrics"
   ]
  },
  {
   "cell_type": "code",
   "execution_count": 66,
   "id": "cbd05dfb",
   "metadata": {},
   "outputs": [
    {
     "name": "stdout",
     "output_type": "stream",
     "text": [
      "5/5 [==============================] - 0s 4ms/step\n"
     ]
    }
   ],
   "source": [
    "predictions = model.predict(val_inputs, batch_size = 128)"
   ]
  },
  {
   "cell_type": "code",
   "execution_count": 67,
   "id": "a2f27ec7",
   "metadata": {},
   "outputs": [
    {
     "name": "stdout",
     "output_type": "stream",
     "text": [
      "[[-0.34573373]\n",
      " [-0.3369331 ]\n",
      " [ 0.63209665]\n",
      " [ 0.2449504 ]\n",
      " [-0.2820681 ]\n",
      " [-0.41971543]\n",
      " [-0.36180004]\n",
      " [-0.7205446 ]\n",
      " [ 0.29310852]\n",
      " [-0.3143598 ]]\n"
     ]
    }
   ],
   "source": [
    "print(predictions[:10])"
   ]
  },
  {
   "cell_type": "code",
   "execution_count": null,
   "id": "74a884da",
   "metadata": {},
   "outputs": [],
   "source": []
  }
 ],
 "metadata": {
  "kernelspec": {
   "display_name": "Python 3 (ipykernel)",
   "language": "python",
   "name": "python3"
  },
  "language_info": {
   "codemirror_mode": {
    "name": "ipython",
    "version": 3
   },
   "file_extension": ".py",
   "mimetype": "text/x-python",
   "name": "python",
   "nbconvert_exporter": "python",
   "pygments_lexer": "ipython3",
   "version": "3.7.16"
  }
 },
 "nbformat": 4,
 "nbformat_minor": 5
}
